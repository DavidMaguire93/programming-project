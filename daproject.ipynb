{
 "cells": [
  {
   "cell_type": "markdown",
   "metadata": {},
   "source": [
    "# A Simulated Dataset of Factors Influencing Sleep\n",
    "David Maguire"
   ]
  },
  {
   "cell_type": "markdown",
   "metadata": {},
   "source": [
    "## Introduction\n",
    "***"
   ]
  },
  {
   "cell_type": "markdown",
   "metadata": {},
   "source": []
  },
  {
   "cell_type": "markdown",
   "metadata": {},
   "source": []
  },
  {
   "cell_type": "markdown",
   "metadata": {},
   "source": []
  },
  {
   "cell_type": "markdown",
   "metadata": {},
   "source": [
    "***"
   ]
  },
  {
   "cell_type": "markdown",
   "metadata": {},
   "source": [
    "## Dataset Variables\n",
    "***"
   ]
  },
  {
   "cell_type": "markdown",
   "metadata": {},
   "source": [
    "### Hours\n",
    "One of the 2 measure of a good or bad sleep is sleep hours. This is simply the total hours of sleep that a subject gets in a day/night. Although the degree of restlessness / awakeness during a sleep is debatable (some sleeping apps have different definitions of sleeping hours, for example), we will be using data from a sleeping app called Sleep Cycle. This data will be compared to other sources of research to make sure it aligns.\n",
    "\n",
    "***Robbins et al. (2020)*** measured sleeping hours and quality of teens and adults in New York over a 4 year period. While the primary goal of the research was to contrast sleep hours and quality across multiple cohorts, times of year and locations, the total sleep statistics can be used for the purposes of this analysis.\n",
    "\n",
    "The mean sleep hours found in the study was 7.1 with a st. dev of 1.4. While Robbins et al. did not supply a histogram chart of the sleeping hours, [This](https://www.researchgate.net/figure/Fig-1-Large-variation-and-normal-distribution-in-self-rated-sleep-duration-average_fig1_224953802) histogram from research by Landholt (2008) shows that sleep hours follows a normal distribution."
   ]
  },
  {
   "cell_type": "markdown",
   "metadata": {},
   "source": [
    "### Quality"
   ]
  },
  {
   "cell_type": "markdown",
   "metadata": {},
   "source": [
    "### Sleep Hygeine"
   ]
  },
  {
   "cell_type": "markdown",
   "metadata": {},
   "source": [
    "### Stress"
   ]
  },
  {
   "cell_type": "markdown",
   "metadata": {},
   "source": [
    "### Alcohol Intake"
   ]
  },
  {
   "cell_type": "markdown",
   "metadata": {},
   "source": [
    "***"
   ]
  },
  {
   "cell_type": "markdown",
   "metadata": {},
   "source": [
    "## Variable Interactions\n",
    "***"
   ]
  },
  {
   "cell_type": "markdown",
   "metadata": {},
   "source": [
    "### Sleep Hygeine"
   ]
  },
  {
   "cell_type": "markdown",
   "metadata": {},
   "source": [
    "### Stress"
   ]
  },
  {
   "cell_type": "markdown",
   "metadata": {},
   "source": [
    "### Alcohol Intake"
   ]
  },
  {
   "cell_type": "markdown",
   "metadata": {},
   "source": [
    "***"
   ]
  },
  {
   "cell_type": "markdown",
   "metadata": {},
   "source": [
    "## Variable Algorithm"
   ]
  },
  {
   "cell_type": "code",
   "execution_count": null,
   "metadata": {},
   "outputs": [],
   "source": []
  },
  {
   "cell_type": "code",
   "execution_count": null,
   "metadata": {},
   "outputs": [],
   "source": []
  },
  {
   "cell_type": "code",
   "execution_count": null,
   "metadata": {},
   "outputs": [],
   "source": []
  },
  {
   "cell_type": "code",
   "execution_count": null,
   "metadata": {},
   "outputs": [],
   "source": []
  },
  {
   "cell_type": "code",
   "execution_count": null,
   "metadata": {},
   "outputs": [],
   "source": []
  },
  {
   "cell_type": "code",
   "execution_count": null,
   "metadata": {},
   "outputs": [],
   "source": []
  },
  {
   "cell_type": "code",
   "execution_count": null,
   "metadata": {},
   "outputs": [],
   "source": []
  },
  {
   "cell_type": "markdown",
   "metadata": {},
   "source": [
    "## References\n",
    "***\n",
    "- [Robbins, R., Affouf, M., Seixas, A., Beaugris, L., Avirappattu, G. and Jean-Louis, G., 2020. Four-year trends in sleep duration and quality: a longitudinal study using data from a commercially available sleep tracker. Journal of medical Internet research, 22(2), p.e14735.](https://www.jmir.org/2020/2/e14735/) Sleep Cycle Hours, Quantity\n",
    "- [PILCHER, J.J., GINTER, D.R. and SADOWSKY, B., 1997. SLEEP QUALITY VERSUS SLEEP QUANTITY: RELATIONSHIPS BETWEEN SLEEP AND MEASURES OF HEALTH, WELL-BEING AND SLEEPINESS IN COLLEGE STUDENTS. Journal of Psychosomatic Research, 42(6), pp.583-596.](https://www.researchgate.net/profile/June-Pilcher/publication/13992227_Sleep_quality_versus_sleep_quantity_Relationships_between_sleep_and_measures_of_health_well-being_and_sleepiness_in_college_students/links/59d8d8790f7e9b12b368615a/Sleep-quality-versus-sleep-quantity-Relationships-between-sleep-and-measures-of-health-well-being-and-sleepiness-in-college-students.pdf) Sleep Hours, Quality (College Students)\n",
    "-Landolt, H.P., 2008. Genotype-dependent differences in sleep, vigilance, and response to stimulants. Current pharmaceutical design, 14(32), pp.3396-3407. Sleep Histogram"
   ]
  },
  {
   "cell_type": "markdown",
   "metadata": {},
   "source": [
    "***\n",
    "# The End\n",
    "***"
   ]
  }
 ],
 "metadata": {
  "kernelspec": {
   "display_name": "Python 3",
   "language": "python",
   "name": "python3"
  },
  "language_info": {
   "codemirror_mode": {
    "name": "ipython",
    "version": 3
   },
   "file_extension": ".py",
   "mimetype": "text/x-python",
   "name": "python",
   "nbconvert_exporter": "python",
   "pygments_lexer": "ipython3",
   "version": "3.8.5"
  }
 },
 "nbformat": 4,
 "nbformat_minor": 4
}
