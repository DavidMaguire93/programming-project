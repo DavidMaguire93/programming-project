{
 "cells": [
  {
   "cell_type": "markdown",
   "metadata": {},
   "source": [
    "# A Simulated Dataset of Factors Influencing Sleep\n",
    "David Maguire"
   ]
  },
  {
   "cell_type": "code",
   "execution_count": 20,
   "metadata": {},
   "outputs": [],
   "source": [
    "import numpy as np\n",
    "import matplotlib.pyplot as plt\n",
    "from scipy.stats import skewnorm"
   ]
  },
  {
   "cell_type": "markdown",
   "metadata": {},
   "source": [
    "# Introduction\n",
    "***"
   ]
  },
  {
   "cell_type": "markdown",
   "metadata": {},
   "source": []
  },
  {
   "cell_type": "markdown",
   "metadata": {},
   "source": []
  },
  {
   "cell_type": "markdown",
   "metadata": {},
   "source": []
  },
  {
   "cell_type": "markdown",
   "metadata": {},
   "source": [
    "***"
   ]
  },
  {
   "cell_type": "markdown",
   "metadata": {},
   "source": [
    "# Dataset Variables\n",
    "***"
   ]
  },
  {
   "cell_type": "markdown",
   "metadata": {},
   "source": [
    "## Sleep Hours\n",
    "One of the 2 measure of a good or bad sleep is sleep hours. This is simply the total hours of sleep that a subject gets in a day/night. Although the degree of restlessness / awakeness during a sleep is debatable (some sleeping apps have different definitions of sleeping hours, for example), we will be using data from a sleeping app called Sleep Cycle. This data will be compared to other sources of research to make sure it aligns.\n",
    "\n",
    "*Robbins et al. (2020)* measured sleeping hours and quality of teens and adults in New York over a 4 year period. While the primary goal of the research was to contrast sleep hours and quality across multiple cohorts, times of year and locations, the total sleep statistics can be used for the purposes of this analysis.\n",
    "\n",
    "The mean sleep hours found in the study was 7.1 with a st. dev of 1.4. While Robbins et al. did not supply a histogram chart of the sleeping hours, [This](https://www.researchgate.net/figure/Fig-1-Large-variation-and-normal-distribution-in-self-rated-sleep-duration-average_fig1_224953802) histogram from research by *Landholt (2008)* shows that sleep hours follows a normal distribution.\n",
    "\n",
    "*Pilcher et al. (1997)* measured sleep hours and quality in college students and found similar results in terms of sleep hours, with a mean of 7.06 hours and a st. dev of 1.11.\n",
    "\n",
    "As this data will represent the general adult population and not just college students, we will use the results of Robbins et al. and use a **mean of 7.1 hours and a st. dev of 1.4 with a normal distribution** for our data of sleep hours"
   ]
  },
  {
   "cell_type": "markdown",
   "metadata": {},
   "source": [
    "***"
   ]
  },
  {
   "cell_type": "markdown",
   "metadata": {},
   "source": [
    "## Sleep Quality\n",
    "Many studies that examine sleep hours also examine sleep quality. With that in mind we can look at the previous studies that we looked at for sleep hours for means and st. devs. *Robbins et al. (2020)* also looked at sleep quality. In this study, quality was measured using the sleep quality metric from the app Sleep Cycle. The metric uses time in bed, time in deep sleep, motion and movement and times awake to measure the quality of sleep. This information can be found [here.](https://support.sleepcycle.com/hc/en-us/articles/206704659-How-Does-the-App-Calculate-Sleep-Quality-) They found that people slept with a mean sleep quality of 72.3 (out of 100) and a st. dev of 14.2.\n",
    "\n",
    "*Pilcher et al. (1997)* also measure sleep quality but in a different way. They used a self-assesed survey of sleep quality on a scale of 1 - 7 with 1 being awful and 7 being great. They found that the subjects had a mean sleep quality of 4.99 with a st. dev of 0.97. We can somewhat try to calculate these scores if they were 1-100 like in the Sleep Cycle app above. As there can be no lower number than 1 and no higher than 7, these can be the end of our scale at 0% and 100%. If we put numbers 2 - 6 on that scale, they would be every 16.66% at 16.66%, 33.32%, 49.98%, 66.64% and 83.3%.\n",
    "A mean score of 4.99 would be similar to a score of 66.63 on the Sleep Cycle app with a standard deviation of 16.16 (16.66 * 0.97). These numbers are close enough were we can reasonably use either method for sleep quality.\n",
    "\n",
    "In many sleep studies, the most frequently used indicator of sleep quality is the [Pittsburgh Sleep Quality Index](http://www.opapc.com/uploads/documents/PSQI.pdf) (PSQI). This is a measure of self-reported sleep quality and disturbance. It was first used by DJ Buysse et al. in 1989, and has since been used in many studies to measure sleep index as well as translated into many other languages for use in other countries. The PSQI has 7 different components with the highest score of 21 conveying the poorest sleep quality.\n",
    "\n",
    "*Grander et al. (2006)*, measure the relationship between PSQI scores and other tests of sleep and stress in a non-clinical setting. They found that the mean PSQI score was 4.07 and an inter-quartile range of 3.0. This is somewhat contracted to the results of *El Hangouche et al. (2018)* who found that PSQI score among medical student had a mean score of 6.36 with a std. dev of 3.047. These scores are similar to that of *Lunde et al. (2012)* who, when analysing sleep scores of patients with multiple sclerosis, had a mean PSQI score of 6.3 in their control group with a std. dev of 4.1.\n",
    "\n",
    "[This](https://www.researchgate.net/figure/histograms-showing-the-distribution-of-Epworth-sleepiness-scale-and-PsQi-score-in-the_fig1_327489806) histogram by *El Hangouche et al. (2018)* concluded that sleep quality follows a normal distribution where sleep quality is measured by the Pittsburgh Sleep Quality Index.\n",
    "\n",
    "For our sleep quality data, we will use scores from the Pittsburgh Sleep Quality Index as a measure for sleep quality. We will use the PSQI scores of El Hangouche et al. (2018). Our sleep quality data will have a **mean of 6.36 and a std. dev of 3.047 with a normal distribution.**\n",
    "\n",
    "It should be noted that one of the 7 components in the PSQI is sleeping hours.\n"
   ]
  },
  {
   "cell_type": "markdown",
   "metadata": {},
   "source": [
    "***"
   ]
  },
  {
   "cell_type": "markdown",
   "metadata": {},
   "source": [
    "## Sleep Hygeine\n",
    "\n",
    "[Sleep hygeine](https://www.sleepfoundation.org/sleep-hygiene) is the practices and habits that are conducive to having a good night's sleep. Some elements of sleep hygeine are:\n",
    "\n",
    "- Going to bed at a consistent time\n",
    "- Avoiding screens in the 30mins - 1 hour before bed\n",
    "- Avoiding coffee later in the day\n",
    "- Getting exercise in the day\n",
    "- Setting up a good environment to sleep in\n",
    "\n",
    "Because sleep hygeine encompasses so many things, there does not seem to be a standerdised measure of sleep hygeine in research. Often, researchers come up with their own index for sleep hygeine, such as the Sleep Hygeine Index used by *Mastin et al., 2006* or the Sleep Hygeine Awareness and Practice Scale (SHAPS) used by *Brown and Soper, 2002*. Other research uses an untitled questionnaire on some aspects of sleep hygeine, like *Brick et al., 2013*. We will look at these 3 studies and assess the best measure to use in our dataset.\n",
    "\n",
    "Mastin et al. used a self-made Sleep Hygeine Index to measure the sleep hygeine of the subjects. It is a 13-item self-administered index, influenced by the diagnostic criteria for inadequate sleep hygeine in the International Classification of Sleep Disorders in 1990. A score is given based on answers to this index, with a higher score indicating worse sleep hygeine. The score for this index had a mean of 34.66 with a std. dev of 6.6 and a range of 17-55. The upper limit was not specified. It is reported as having good test-retest reliability. The exact questions can be found in the index of this study.\n",
    "\n",
    "Brown and Soper used a Sleep Hygeine Awareness and Practice Scale (SHAPS) First developed in 1986 by Lacks and Rotert. The Awareness section of SHAPS has 2 parts, the first is 13 items that measure the user's knowledge of the impact of certain behaviours on sleep (awareness), the second ask about the users knowledge of the impact of 18 common foods, beverages and drugs on sleep. The Practice section of SHAPS contains 19 items that indicate how often the user engages in behaviours that affect sleep on a scale from 0 to 7. For the practice portion of the index, subject who had a good sleep quality had a mean score of 19.68 and std. dev of 1.01 while subjects with a poor sleep quality had a mean Practice score of 34.74 and a std. dev of 0.98. A low score is preferred on the SHAPS index.\n",
    "\n",
    "Brick et al., 2013, came up with their own questions based on common sleep hygein behaviours. These were comared to sleep quality scores from the PSQI. Each individual category was correlated with the PSQI, although no overall score was given. No mean scores of the categories were given either.\n",
    "\n",
    "For the data in this project, the Sleep Hygeine index scores by Mastin et al., 2006 will be used. As the mean scores were close to the middle of the range and the min and max in the given range are both close to 3 std. devs away from the mean, it can reasonably be said that the data was normally distributed. For our dataset, we will use **a mean of 34.66 with a std. dev of 6.6 and a Normal distribution.**"
   ]
  },
  {
   "cell_type": "markdown",
   "metadata": {},
   "source": [
    "***"
   ]
  },
  {
   "cell_type": "markdown",
   "metadata": {},
   "source": [
    "### Stress\n",
    "\n",
    "There are many studies who measure the stress in subject and its effect on sleep. *Verlander et al., 1999* measure stress and sleep patterns in college students. They measures stress using a Derogatis Stress Profile, a 77 question self-report of stress. This focused on 3 domains of stress: Emotional Response, Environmental Events and Personal Mediators. Means and std. devs of the scores were not given.\n",
    "\n",
    "Kashani et al., 2012, measured stress in patients using a Perceived Stress Scale (PSS). The PSS has 14 questions with a score of 0-4, given a rnage of scores from 0 - 56, with a higher score indicating higher stress. The mean PSS score in this study was 22.4, with a standard deviation of 8.1. These scores were correlated with PSQI scores, total sleep time and other heath metrics.\n",
    "\n",
    "Slavin et al., 2015, examined the association of percieved stress with sleep duration and quality in police officers in New York. The PSS was also used in this study. The mean PSS score was 20.0 with a std. dev of 7.9. These scores were correlated with sleep duration and PSQI scores, among others.\n",
    "\n",
    "The histogram in [this](https://www.frontiersin.org/articles/10.3389/fpsyt.2021.656664/full) study by Nguyen Tran et al., 2021 would indicates that PSS scores have a normal distribution.\n",
    "\n",
    "For our dataset, we will be using Percieved Stress Scale Scores. We will create a dataset with a **mean of 22.4 and a std. dev of 8.1 with a normal distribution.**"
   ]
  },
  {
   "cell_type": "markdown",
   "metadata": {},
   "source": [
    "***"
   ]
  },
  {
   "cell_type": "markdown",
   "metadata": {},
   "source": [
    "### Alcohol Intake\n",
    "A frequently used indicator of alcohol use in research is the Daily Drinks Questionnaire (DDQ). This questionnaire will ask the user how many drinks they would have in typical specific day of the week e.g. Monday. It will ask this for all the 7 days of the week and sum the totals.\n",
    "\n",
    "The DDQ was used in research by *Kenney et al., 2012* and *Kenney et al., 2013*. In the 2012 study, weekly alcohol consumption was correlated to the different categories of the PSQI among college students. Means and std. devs are given by gender, with males having a mean drinks per week of 9.77 with a std dev of 10.69 and females having a mean of 6.4 and a std dev. of 6.38 drinks per week The range of alcohol consumption was 0 - 48.\n",
    "\n",
    "In the 2013 study by Kenney et al., mental health, alcohol and sleep quality were correlated among universityt students. Again, DDQ was used to measure alcohol intake. The mean alcohol use was 10.97 with a std dev. of 9.65 drinks per week.\n",
    "\n",
    "Although both of these studies focus on college students, there is little research on alcohol intake in the general population. For this reason, we will use a **mean drinks per week of 10.97 with a std. dev of 9.65.** The distribution od this is not normal dues to the high max (48) and std. dev compared to the mean. A positively-skewed distribution may be used, but that will be investigated later."
   ]
  },
  {
   "cell_type": "markdown",
   "metadata": {},
   "source": [
    "***"
   ]
  },
  {
   "cell_type": "markdown",
   "metadata": {},
   "source": [
    "## Variable Interactions\n",
    "***"
   ]
  },
  {
   "cell_type": "markdown",
   "metadata": {},
   "source": [
    "### Sleep Hygeine\n",
    "\n",
    "Mastin et al. (2006) shows that sleep hygeine scores for their Sleep Hygeine Index had extremely positive (p < 0.01) correlation to sleep quality measured via PSQI among all the componenet of the PSQI, nicluding sleep duration.\n",
    "\n",
    "Browne and Soper (2002) found a positive correlation between their sleep hygeine score (for the Practice portion) and the PSQI rating.\n",
    "\n",
    "Brick et al., (2013) found that many of their sleep hygeine categories correlated with sleep quality and duration.\n",
    "\n",
    "Based on this research, we can safely conclude that **sleep hygeine is significantly correlated with both sleep duration and quality**, with better sleep hygeine resulting in a longer and better sleep.\n",
    "\n"
   ]
  },
  {
   "cell_type": "markdown",
   "metadata": {},
   "source": [
    "***"
   ]
  },
  {
   "cell_type": "markdown",
   "metadata": {},
   "source": [
    "### Stress\n",
    "\n",
    "Kashani et al., (2012) found that a higher stress score on the PSS was negatively correlated with sleep duration and quality.\n",
    "\n",
    "Slavin et al., (2015) found similar results, concluding that their percieved stress scores we significantly correlatred with duration and quality of sleep.\n",
    "\n",
    "Verlander et al., (1999) found that one category of 3 in their stress index (environmental events) has a significant correlation with sleep, while 2 categories (emotional responses and environmental events) were significantly correlated with sleep quality.\n",
    "\n",
    "Based on the above research, we can safely conclude that **stress is significantly correlated with both sleep duration and quality**, with a lower stress level resulting in a longer and better sleep.\n",
    "\n",
    "\n",
    "\n"
   ]
  },
  {
   "cell_type": "markdown",
   "metadata": {},
   "source": [
    "***"
   ]
  },
  {
   "cell_type": "markdown",
   "metadata": {},
   "source": [
    "### Alcohol Intake\n",
    "\n",
    "In both of the studies by Kenney et al., (2012, 2013), it was found that alvohol intake has a significant correlation with some aspects of sleep quality (2012) or global sleep quality (2013). No significant correlation was found between alcohol and sleep duration in either study, with an unsignificant but positive correlation even being found.\n",
    "\n",
    "Based on this research, it can be concluded that **Alcohol intake is significantly correlated with sleep quality but not with sleep duration.**"
   ]
  },
  {
   "cell_type": "markdown",
   "metadata": {},
   "source": [
    "***"
   ]
  },
  {
   "cell_type": "markdown",
   "metadata": {},
   "source": [
    "## Data Visualisation\n",
    "\n",
    "We will now simulate data across all 5 variables. We will use **200 data points** for this. We will call a seed within each cell so that the results are repeatable."
   ]
  },
  {
   "cell_type": "markdown",
   "metadata": {},
   "source": [
    "***"
   ]
  },
  {
   "cell_type": "markdown",
   "metadata": {},
   "source": [
    "### Sleep Hours\n",
    "\n",
    "For Sleep Hours, we will us a normal distribution with a mean of 6.3 and a std. dev of 4.1."
   ]
  },
  {
   "cell_type": "code",
   "execution_count": 17,
   "metadata": {},
   "outputs": [
    {
     "data": {
      "image/png": "[encoded data removed]",
      "text/plain": [
       "<Figure size 432x288 with 1 Axes>"
      ]
     },
     "metadata": {
      "needs_background": "light"
     },
     "output_type": "display_data"
    }
   ],
   "source": [
    "rng = np.random.default_rng(12345)\n",
    "hours = rng.normal(loc = 7.1, scale=1.4, size=200)\n",
    "plt.hist(hours)\n",
    "plt.title(\"Sleep Hours\")\n",
    "plt.xlabel(\"Hours\")\n",
    "plt.show;"
   ]
  },
  {
   "cell_type": "markdown",
   "metadata": {},
   "source": [
    "***"
   ]
  },
  {
   "cell_type": "markdown",
   "metadata": {},
   "source": [
    "### Sleep Quality\n",
    "\n",
    "For Sleep Quality, we will use a normal distribution with a mean of 6.36 and a std. dev of 3.047. We may need to redistribute negative values. Values must be integers so we may need to round."
   ]
  },
  {
   "cell_type": "code",
   "execution_count": null,
   "metadata": {},
   "outputs": [],
   "source": [
    "rng = np.random.default_rng(123)\n",
    "x = rng.normal(loc = 6.36, scale=3.047, size=10000)\n",
    "quality = np.rint(x)\n",
    "plt.hist(quality)\n",
    "plt.title(\"Sleep Quality (PSQI Scores)\")\n",
    "plt.xlabel(\"PSQI Score\")\n",
    "plt.show;"
   ]
  },
  {
   "cell_type": "code",
   "execution_count": 55,
   "metadata": {},
   "outputs": [],
   "source": [
    "neg = []\n",
    "for x in quality:\n",
    "    if x < 0:\n",
    "        neg.append(x)\n",
    "        qualitynew = quality[ (quality != x)]\n",
    "extra = len(neg)\n",
    "extra\n",
    "\n",
    "rng = np.random.default_rng(12345)\n",
    "extras = rng.normal(loc = 6.36, scale=3.047, size=extra)\n",
    "sleepquality = np.append(qualitynew, extras)"
   ]
  },
  {
   "cell_type": "code",
   "execution_count": 56,
   "metadata": {},
   "outputs": [
    {
     "data": {
      "image/png": "[encoded data removed]",
      "text/plain": [
       "<Figure size 432x288 with 1 Axes>"
      ]
     },
     "metadata": {
      "needs_background": "light"
     },
     "output_type": "display_data"
    }
   ],
   "source": [
    "plt.hist(sleepquality)\n",
    "plt.title(\"Sleep Quality (PSQI Scores)\")\n",
    "plt.xlabel(\"PSQI Score\")\n",
    "plt.show;"
   ]
  },
  {
   "cell_type": "code",
   "execution_count": 58,
   "metadata": {},
   "outputs": [
    {
     "data": {
      "text/plain": [
       "array([ 2.02160511, 10.21058061,  3.70709368,  5.57029915,  6.13042894,\n",
       "        4.10252447,  2.19233564,  8.33717637,  7.46014407,  0.40962625,\n",
       "       13.51255722,  9.31101007,  4.04614726,  9.10899814,  4.93719368,\n",
       "        6.17507904,  8.76360872,  2.5309322 ,  8.11463785, 10.622689  ,\n",
       "       10.38904219,  5.44681862,  9.11119523,  1.41903741,  5.87799732,\n",
       "        7.72957754,  2.26604753,  6.11109791, 11.61528257, 14.33753177,\n",
       "        8.72862001,  8.88484535,  3.43796261,  2.67499389,  2.05674623,\n",
       "        8.01009319,  8.65115934,  4.35275731,  2.61622732,  7.14477852,\n",
       "        7.31341519,  5.96141678, 10.22963857,  6.07674339,  6.15843824,\n",
       "        2.98327052,  6.77426052, 10.46454595,  6.54630583,  6.57607679,\n",
       "        7.68134537,  7.20549271,  7.97567902,  7.99538879,  8.2441125 ,\n",
       "        3.93758181,  7.27419429,  1.47656825,  7.17293603,  2.51583234,\n",
       "        6.14283785,  7.80442953,  5.09594059,  6.65774218,  1.36164685,\n",
       "        3.74793236,  8.45719461,  2.84214836,  8.34192843,  2.12966722,\n",
       "        3.59520565,  3.02223909,  6.38177293,  7.98819462,  3.11248349,\n",
       "        5.80705256, 11.30208713,  5.39290674,  3.8742118 ,  7.53790627,\n",
       "        5.67857219,  4.22194811,  0.88846195,  8.85343817,  4.62006275,\n",
       "        6.36239349,  3.11908064, 10.32632408,  8.63876885,  9.3487289 ,\n",
       "        6.02355426,  7.78574776,  9.07367999,  9.47710954,  7.31183219,\n",
       "        6.17137642,  5.26466551,  4.07888178,  3.41818577,  7.4570256 ,\n",
       "        5.61484843,  0.27862491,  5.88696051,  9.60149268,  5.52155223,\n",
       "        0.71288542,  5.98113015,  8.75181737,  6.97548972,  5.05565717,\n",
       "       11.99173626, 12.14915646,  6.06009892,  8.83856826,  7.5559304 ,\n",
       "        8.74105652, 10.78811831,  8.85910688,  6.62723818,  4.36876829,\n",
       "        3.88618068,  6.28218519,  9.8889883 ,  7.27568709,  6.5216636 ,\n",
       "        7.14390633,  6.4689085 ,  8.02743018,  2.93833607,  0.34142036,\n",
       "        5.0645678 ,  2.85877207, 11.28132565,  5.87712101,  5.58949492,\n",
       "        1.67324466,  7.21951614,  4.45985383,  9.77819244,  8.92320048,\n",
       "        3.99584458,  7.61145299, -1.93520187,  4.30844028, 10.157237  ,\n",
       "        8.76776386,  6.89426369,  6.27073935,  2.03474006,  2.21618261,\n",
       "        7.04073502, 11.72814193,  8.27500346,  8.19184581,  9.25695919,\n",
       "        3.71140541,  4.74811545,  6.49919944,  3.22904963,  2.61435551,\n",
       "        3.66840674,  6.14398762,  7.49974056,  6.28506288,  6.59541323,\n",
       "        4.27611642,  4.16360763,  9.77453772,  6.19298125,  6.10888538,\n",
       "        9.21195087, 10.13382262, 10.23820797,  7.59675359,  6.20665905,\n",
       "        7.24155054,  6.9063444 , 10.61812325,  7.24986657,  8.30522209,\n",
       "        6.27502614, 10.53759499,  0.10509515,  7.51941116,  8.66167537,\n",
       "        2.82814353, 12.91199492,  5.90212664,  5.86893244,  3.07093878,\n",
       "        9.03516296,  7.04395221,  4.55741475,  7.04942276,  8.4507981 ,\n",
       "       10.06211904,  7.01833312,  3.42018262,  4.66401602,  2.02160511,\n",
       "       10.21058061])"
      ]
     },
     "execution_count": 58,
     "metadata": {},
     "output_type": "execute_result"
    }
   ],
   "source": [
    "sleepquality"
   ]
  },
  {
   "cell_type": "markdown",
   "metadata": {},
   "source": [
    "***"
   ]
  },
  {
   "cell_type": "markdown",
   "metadata": {},
   "source": [
    "### Sleep Hygeine"
   ]
  },
  {
   "cell_type": "markdown",
   "metadata": {},
   "source": [
    "***"
   ]
  },
  {
   "cell_type": "markdown",
   "metadata": {},
   "source": [
    "### Stress"
   ]
  },
  {
   "cell_type": "markdown",
   "metadata": {},
   "source": [
    "***"
   ]
  },
  {
   "cell_type": "markdown",
   "metadata": {},
   "source": [
    "### Alcohol Intake"
   ]
  },
  {
   "cell_type": "markdown",
   "metadata": {},
   "source": [
    "***"
   ]
  },
  {
   "cell_type": "markdown",
   "metadata": {},
   "source": [
    "## Sleep Data Algorithm"
   ]
  },
  {
   "cell_type": "markdown",
   "metadata": {},
   "source": [
    "***"
   ]
  },
  {
   "cell_type": "markdown",
   "metadata": {},
   "source": [
    "## References\n",
    "***\n",
    "- [Robbins, R., Affouf, M., Seixas, A., Beaugris, L., Avirappattu, G. and Jean-Louis, G., 2020. Four-year trends in sleep duration and quality: a longitudinal study using data from a commercially available sleep tracker. Journal of medical Internet research, 22(2), p.e14735.](https://www.jmir.org/2020/2/e14735/) Sleep Cycle Hours, Quantity\n",
    "\n",
    "- [PILCHER, J.J., GINTER, D.R. and SADOWSKY, B., 1997. SLEEP QUALITY VERSUS SLEEP QUANTITY: RELATIONSHIPS BETWEEN SLEEP AND MEASURES OF HEALTH, WELL-BEING AND SLEEPINESS IN COLLEGE STUDENTS. Journal of Psychosomatic Research, 42(6), pp.583-596.](https://www.researchgate.net/profile/June-Pilcher/publication/13992227_Sleep_quality_versus_sleep_quantity_Relationships_between_sleep_and_measures_of_health_well-being_and_sleepiness_in_college_students/links/59d8d8790f7e9b12b368615a/Sleep-quality-versus-sleep-quantity-Relationships-between-sleep-and-measures-of-health-well-being-and-sleepiness-in-college-students.pdf) Sleep Hours, Quality (College Students)\n",
    "\n",
    "- [Landolt, H.P., 2008. Genotype-dependent differences in sleep, vigilance, and response to stimulants. Current pharmaceutical design, 14(32), pp.3396-3407.](https://www.researchgate.net/figure/Fig-1-Large-variation-and-normal-distribution-in-self-rated-sleep-duration-average_fig1_224953802) Sleep Histogram\n",
    "\n",
    "- [El Hangouche, A.J., Jniene, A., Aboudrar, S., Errguig, L., Rkain, H., Cherti, M. and Dakka, T., 2018. Relationship between poor quality sleep, excessive daytime sleepiness and low academic performance in medical students. Advances in medical education and practice, 9, p.631.](https://www.ncbi.nlm.nih.gov/pmc/articles/PMC6135210/) - Sleep Quality Histogram\n",
    "\n",
    "- [Chueh, K.H., Guilleminault, C. and Chia-Mo, L.I.N., 2019. Alcohol consumption as a moderator of anxiety and sleep quality. The Journal of Nursing Research, 27(3), p.e23.](https://www.ncbi.nlm.nih.gov/pmc/articles/PMC6554008/) Alcohol and Sleep Quality\n",
    "\n",
    "- [Benham, G., 2021. Stress and sleep in college students prior to and during the COVID‐19 pandemic. Stress and Health, 37(3), pp.504-515.](https://onlinelibrary.wiley.com/doi/full/10.1002/smi.3016) Stress and sleep duration, quality during Covid\n",
    "\n",
    "- [Buysse, D.J., Reynolds III, C.F., Monk, T.H., Berman, S.R. and Kupfer, D.J., 1989. The Pittsburgh Sleep Quality Index: a new instrument for psychiatric practice and research. Psychiatry research, 28(2), pp.193-213.](https://www.sciencedirect.com/science/article/abs/pii/0165178189900474) PSQI\n",
    "\n",
    "- [Grandner, M.A., Kripke, D.F., Yoon, I.Y. and Youngstedt, S.D., 2006. Criterion validity of the Pittsburgh Sleep Quality Index: Investigation in a non-clinical sample. Sleep and biological rhythms, 4(2), pp.129-136.](https://www.ncbi.nlm.nih.gov/pmc/articles/PMC3399671/) PSQI means, st dev\n",
    "\n",
    "- [Bøe Lunde, H.M., Aae, T.F., Indrevåg, W., Aarseth, J., Bjorvatn, B., Myhr, K.M. and Bø, L., 2012. Poor sleep in patients with multiple sclerosis. PloS one, 7(11), p.e49996.](https://journals.plos.org/plosone/article?id=10.1371/journal.pone.0049996) PSQI control scores\n",
    "\n",
    "- [Mastin, D.F., Bryson, J. and Corwyn, R., 2006. Assessment of sleep hygiene using the Sleep Hygiene Index. Journal of behavioral medicine, 29(3), pp.223-227.](https://www.researchgate.net/profile/David-Mastin/publication/7222661_Assessment_of_Sleep_Hygiene_Using_the_Sleep_Hygiene_Index/links/54e653b40cf2bff5a4f52da5/Assessment-of-Sleep-Hygiene-Using-the-Sleep-Hygiene-Index.pdf) Sleep Hygeine Index\n",
    "\n",
    "- [Brown, F.C., Buboltz Jr, W.C. and Soper, B., 2002. Relationship of sleep hygiene awareness, sleep hygiene practices, and sleep quality in university students. Behavioral medicine, 28(1), pp.33-38.](https://citeseerx.ist.psu.edu/viewdoc/download?doi=10.1.1.884.3251&rep=rep1&type=pdf) SHAPS\n",
    "\n",
    "- [Brick, C.A., Seely, D.L. and Palermo, T.M., 2010. Association between sleep hygiene and sleep quality in medical students. Behavioral sleep medicine, 8(2), pp.113-121.](https://www.ncbi.nlm.nih.gov/pmc/articles/PMC3572193/)\n",
    "\n",
    "- [Kashani, M., Eliasson, A. and Vernalis, M., 2012. Perceived stress correlates with disturbed sleep: a link connecting stress and cardiovascular disease. Stress, 15(1), pp.45-51.](https://www.tandfonline.com/doi/pdf/10.3109/10253890.2011.578266) stress and sleep (cardiovascular)\n",
    "\n",
    "- [Charles, L.E., Slaven, J.E., Mnatsakanova, A., Ma, C., Violanti, J.M., Fekedulegn, D., Andrew, M.E., Vila, B.J. and Burchfiel, C.M., 2011. Association of perceived stress with sleep duration and sleep quality in police officers. International journal of emergency mental health, 13(4), p.229.](https://www.ncbi.nlm.nih.gov/pmc/articles/PMC4681282/) stress and sleep police officers\n",
    "\n",
    "- [Verlander, L.A., Benedict, J.O. and Hanson, D.P., 1999. Stress and sleep patterns of college students. Perceptual and Motor Skills, 88(3), pp.893-898.](https://journals.sagepub.com/doi/pdf/10.2466/pms.1999.88.3.893) stress and sleep colleg students\n",
    "\n",
    "- [Huy, N.T., Nguyen Tran, M.D., Mohammed Alhady, S.T., Luu, M.N., Hassan, A.K., Giang, T.V., Truong, L.V., Ravikulan, R., Raut, A.P., Dayyab, F.M. and Durme, S.P., 2021. Perceived Stress of Quarantine and Isolation During COVID-19 Pandemic: A Global Survey. Frontiers in psychiatry, 12, p.651.](https://www.frontiersin.org/articles/10.3389/fpsyt.2021.656664/full) PSS covid\n",
    "\n",
    "- [Kenney, S.R., Lac, A., LaBrie, J.W., Hummer, J.F. and Pham, A., 2013. Mental health, sleep quality, drinking motives, and alcohol-related consequences: a path-analytic model. Journal of Studies on Alcohol and Drugs, 74(6), pp.841-851.](https://www.ncbi.nlm.nih.gov/pmc/articles/PMC3817046/) alcohol sleep quality\n",
    "\n",
    "- [Kenney, S.R., LaBrie, J.W., Hummer, J.F. and Pham, A.T., 2012. Global sleep quality as a moderator of alcohol consumption and consequences in college students. Addictive behaviors, 37(4), pp.507-512.](https://www.ncbi.nlm.nih.gov/pmc/articles/PMC4329778/)"
   ]
  },
  {
   "cell_type": "markdown",
   "metadata": {},
   "source": [
    "***\n",
    "# The End"
   ]
  }
 ],
 "metadata": {
  "kernelspec": {
   "display_name": "Python 3",
   "language": "python",
   "name": "python3"
  },
  "language_info": {
   "codemirror_mode": {
    "name": "ipython",
    "version": 3
   },
   "file_extension": ".py",
   "mimetype": "text/x-python",
   "name": "python",
   "nbconvert_exporter": "python",
   "pygments_lexer": "ipython3",
   "version": "3.8.5"
  }
 },
 "nbformat": 4,
 "nbformat_minor": 4
}
