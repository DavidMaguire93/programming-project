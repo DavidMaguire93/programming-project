{
 "cells": [
  {
   "cell_type": "markdown",
   "metadata": {},
   "source": [
    "# A Simulated Dataset of Factors Influencing Sleep\n",
    "David Maguire"
   ]
  },
  {
   "cell_type": "markdown",
   "metadata": {},
   "source": [
    "## Introduction\n",
    "***"
   ]
  },
  {
   "cell_type": "markdown",
   "metadata": {},
   "source": []
  },
  {
   "cell_type": "markdown",
   "metadata": {},
   "source": []
  },
  {
   "cell_type": "markdown",
   "metadata": {},
   "source": []
  },
  {
   "cell_type": "markdown",
   "metadata": {},
   "source": [
    "***"
   ]
  },
  {
   "cell_type": "markdown",
   "metadata": {},
   "source": [
    "## Dataset Variables\n",
    "***"
   ]
  },
  {
   "cell_type": "markdown",
   "metadata": {},
   "source": [
    "### Sleep Hours\n",
    "One of the 2 measure of a good or bad sleep is sleep hours. This is simply the total hours of sleep that a subject gets in a day/night. Although the degree of restlessness / awakeness during a sleep is debatable (some sleeping apps have different definitions of sleeping hours, for example), we will be using data from a sleeping app called Sleep Cycle. This data will be compared to other sources of research to make sure it aligns.\n",
    "\n",
    "*Robbins et al. (2020)* measured sleeping hours and quality of teens and adults in New York over a 4 year period. While the primary goal of the research was to contrast sleep hours and quality across multiple cohorts, times of year and locations, the total sleep statistics can be used for the purposes of this analysis.\n",
    "\n",
    "The mean sleep hours found in the study was 7.1 with a st. dev of 1.4. While Robbins et al. did not supply a histogram chart of the sleeping hours, [This](https://www.researchgate.net/figure/Fig-1-Large-variation-and-normal-distribution-in-self-rated-sleep-duration-average_fig1_224953802) histogram from research by *Landholt (2008)* shows that sleep hours follows a normal distribution.\n",
    "\n",
    "*Pilcher et al. (1997)* measured sleep hours and quality in college students and fopund similar results in terms of sleep hours, with a mean of 7.06 hours and a st. dev of 1.11.\n",
    "\n",
    "As this data will represent the general adult population and not just college students, we will use the results of Robbins et al. and use a **mean of 7.1 hours and a st. dev of 1.4 with a normal distribution** for our data of sleep hours"
   ]
  },
  {
   "cell_type": "markdown",
   "metadata": {},
   "source": [
    "### Sleep Quality\n",
    "Many studies that examine sleep hours also examine sleep quality. With that in mind we can look at the previous studies that we looked at for sleep hours for means and st. devs. *Robbins et al. (2020)* also looked at sleep quality. In this study, quality was measured using the sleep quality metric from the app Sleep Cycle. The metric uses time in bed, time in deep sleep, motion and movement and times awake to measure the quality of sleep. This information can be found [here.](https://support.sleepcycle.com/hc/en-us/articles/206704659-How-Does-the-App-Calculate-Sleep-Quality-) They foun that people slept with a mean sleep quality of 72.3 (out of 100) and a st. dev of 14.2.\n",
    "\n",
    "*Pilcher et al. (1997)* also measure sleep quality but in a different way. They used a self-assesed survey of sleep quality on a scale of 1 - 7 with 1 being awful and 7 being great. They found that the subjects had a mean sleep quality of 4.99 with a st. dev of 0.97. We can somewhat try to calculate these scores if they were 1-100 like in the Sleep Cycle app above. As there can be no lower number than 1 and no higher than 7, these can be the end of our scale at 0% and 100%. If we put numbers 2 - 6 on that scale, they would be every 16.66% at 16.66%, 33.32%, 49.98%, 66.64% and 83.3%.\n",
    "A mean score of 4.99 would be similar to a score of 66.63 on the Sleep Cycle app with a standard deviation of 16.16 (16.66 * 0.97). These numbers are close enough were we can reasonably use either method for sleep quality.\n",
    "\n",
    "As we are going with the hours of Robbins et al., we will go with the same for sleep quality.\n",
    "\n",
    "[This](https://www.researchgate.net/figure/histograms-showing-the-distribution-of-Epworth-sleepiness-scale-and-PsQi-score-in-the_fig1_327489806) histogram by *El Hangouche et al. (2018)* concluded that sleep quality follows a normal distribution where wleep quality is measure by the [Pittsburgh Sleep Quality Index](http://www.opapc.com/uploads/documents/PSQI.pdf).\n",
    "\n",
    "For our sleep quality data, we will use a **mean sleep quality score of 72.3 and a st. dev of 14.2 (with a max of 100) with a normal distribution**\n"
   ]
  },
  {
   "cell_type": "markdown",
   "metadata": {},
   "source": [
    "### Sleep Hygeine"
   ]
  },
  {
   "cell_type": "markdown",
   "metadata": {},
   "source": [
    "### Stress"
   ]
  },
  {
   "cell_type": "markdown",
   "metadata": {},
   "source": [
    "### Alcohol Intake"
   ]
  },
  {
   "cell_type": "markdown",
   "metadata": {},
   "source": [
    "***"
   ]
  },
  {
   "cell_type": "markdown",
   "metadata": {},
   "source": [
    "## Variable Interactions\n",
    "***"
   ]
  },
  {
   "cell_type": "markdown",
   "metadata": {},
   "source": [
    "### Sleep Hygeine"
   ]
  },
  {
   "cell_type": "markdown",
   "metadata": {},
   "source": [
    "### Stress"
   ]
  },
  {
   "cell_type": "markdown",
   "metadata": {},
   "source": [
    "### Alcohol Intake"
   ]
  },
  {
   "cell_type": "markdown",
   "metadata": {},
   "source": [
    "***"
   ]
  },
  {
   "cell_type": "markdown",
   "metadata": {},
   "source": [
    "## Data Visualisation"
   ]
  },
  {
   "cell_type": "markdown",
   "metadata": {},
   "source": [
    "### Sleep Hours"
   ]
  },
  {
   "cell_type": "markdown",
   "metadata": {},
   "source": [
    "### Sleep Quality"
   ]
  },
  {
   "cell_type": "markdown",
   "metadata": {},
   "source": [
    "### Sleep Hygeine"
   ]
  },
  {
   "cell_type": "markdown",
   "metadata": {},
   "source": [
    "### Stress"
   ]
  },
  {
   "cell_type": "markdown",
   "metadata": {},
   "source": [
    "### Alcohol Intake"
   ]
  },
  {
   "cell_type": "markdown",
   "metadata": {},
   "source": [
    "***"
   ]
  },
  {
   "cell_type": "markdown",
   "metadata": {},
   "source": [
    "## Sleep Data Algorithm"
   ]
  },
  {
   "cell_type": "markdown",
   "metadata": {},
   "source": [
    "***"
   ]
  },
  {
   "cell_type": "markdown",
   "metadata": {},
   "source": [
    "## References\n",
    "***\n",
    "- [Robbins, R., Affouf, M., Seixas, A., Beaugris, L., Avirappattu, G. and Jean-Louis, G., 2020. Four-year trends in sleep duration and quality: a longitudinal study using data from a commercially available sleep tracker. Journal of medical Internet research, 22(2), p.e14735.](https://www.jmir.org/2020/2/e14735/) Sleep Cycle Hours, Quantity\n",
    "\n",
    "- [PILCHER, J.J., GINTER, D.R. and SADOWSKY, B., 1997. SLEEP QUALITY VERSUS SLEEP QUANTITY: RELATIONSHIPS BETWEEN SLEEP AND MEASURES OF HEALTH, WELL-BEING AND SLEEPINESS IN COLLEGE STUDENTS. Journal of Psychosomatic Research, 42(6), pp.583-596.](https://www.researchgate.net/profile/June-Pilcher/publication/13992227_Sleep_quality_versus_sleep_quantity_Relationships_between_sleep_and_measures_of_health_well-being_and_sleepiness_in_college_students/links/59d8d8790f7e9b12b368615a/Sleep-quality-versus-sleep-quantity-Relationships-between-sleep-and-measures-of-health-well-being-and-sleepiness-in-college-students.pdf) Sleep Hours, Quality (College Students)\n",
    "\n",
    "- Landolt, H.P., 2008. Genotype-dependent differences in sleep, vigilance, and response to stimulants. Current pharmaceutical design, 14(32), pp.3396-3407. Sleep Histogram\n",
    "\n",
    "- [El Hangouche, A.J., Jniene, A., Aboudrar, S., Errguig, L., Rkain, H., Cherti, M. and Dakka, T., 2018. Relationship between poor quality sleep, excessive daytime sleepiness and low academic performance in medical students. Advances in medical education and practice, 9, p.631.](https://www.ncbi.nlm.nih.gov/pmc/articles/PMC6135210/) - Sleep Quality Histogram\n",
    "\n",
    "- [Chueh, K.H., Guilleminault, C. and Chia-Mo, L.I.N., 2019. Alcohol consumption as a moderator of anxiety and sleep quality. The Journal of Nursing Research, 27(3), p.e23.](https://www.ncbi.nlm.nih.gov/pmc/articles/PMC6554008/) Alcohol and Sleep Quality"
   ]
  },
  {
   "cell_type": "markdown",
   "metadata": {},
   "source": [
    "***\n",
    "# The End\n",
    "***"
   ]
  }
 ],
 "metadata": {
  "kernelspec": {
   "display_name": "Python 3",
   "language": "python",
   "name": "python3"
  },
  "language_info": {
   "codemirror_mode": {
    "name": "ipython",
    "version": 3
   },
   "file_extension": ".py",
   "mimetype": "text/x-python",
   "name": "python",
   "nbconvert_exporter": "python",
   "pygments_lexer": "ipython3",
   "version": "3.8.5"
  }
 },
 "nbformat": 4,
 "nbformat_minor": 4
}
