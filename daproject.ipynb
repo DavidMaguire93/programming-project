{
 "cells": [
  {
   "cell_type": "markdown",
   "metadata": {},
   "source": [
    "# A Simulated Dataset of Factors Influencing Sleep\n",
    "David Maguire"
   ]
  },
  {
   "cell_type": "markdown",
   "metadata": {},
   "source": [
    "# Introduction\n",
    "***"
   ]
  },
  {
   "cell_type": "markdown",
   "metadata": {},
   "source": []
  },
  {
   "cell_type": "markdown",
   "metadata": {},
   "source": []
  },
  {
   "cell_type": "markdown",
   "metadata": {},
   "source": []
  },
  {
   "cell_type": "markdown",
   "metadata": {},
   "source": [
    "***"
   ]
  },
  {
   "cell_type": "markdown",
   "metadata": {},
   "source": [
    "# Dataset Variables\n",
    "***"
   ]
  },
  {
   "cell_type": "markdown",
   "metadata": {},
   "source": [
    "## Sleep Hours\n",
    "One of the 2 measure of a good or bad sleep is sleep hours. This is simply the total hours of sleep that a subject gets in a day/night. Although the degree of restlessness / awakeness during a sleep is debatable (some sleeping apps have different definitions of sleeping hours, for example), we will be using data from a sleeping app called Sleep Cycle. This data will be compared to other sources of research to make sure it aligns.\n",
    "\n",
    "*Robbins et al. (2020)* measured sleeping hours and quality of teens and adults in New York over a 4 year period. While the primary goal of the research was to contrast sleep hours and quality across multiple cohorts, times of year and locations, the total sleep statistics can be used for the purposes of this analysis.\n",
    "\n",
    "The mean sleep hours found in the study was 7.1 with a st. dev of 1.4. While Robbins et al. did not supply a histogram chart of the sleeping hours, [This](https://www.researchgate.net/figure/Fig-1-Large-variation-and-normal-distribution-in-self-rated-sleep-duration-average_fig1_224953802) histogram from research by *Landholt (2008)* shows that sleep hours follows a normal distribution.\n",
    "\n",
    "*Pilcher et al. (1997)* measured sleep hours and quality in college students and found similar results in terms of sleep hours, with a mean of 7.06 hours and a st. dev of 1.11.\n",
    "\n",
    "As this data will represent the general adult population and not just college students, we will use the results of Robbins et al. and use a **mean of 7.1 hours and a st. dev of 1.4 with a normal distribution** for our data of sleep hours"
   ]
  },
  {
   "cell_type": "markdown",
   "metadata": {},
   "source": [
    "***"
   ]
  },
  {
   "cell_type": "markdown",
   "metadata": {},
   "source": [
    "## Sleep Quality\n",
    "Many studies that examine sleep hours also examine sleep quality. With that in mind we can look at the previous studies that we looked at for sleep hours for means and st. devs. *Robbins et al. (2020)* also looked at sleep quality. In this study, quality was measured using the sleep quality metric from the app Sleep Cycle. The metric uses time in bed, time in deep sleep, motion and movement and times awake to measure the quality of sleep. This information can be found [here.](https://support.sleepcycle.com/hc/en-us/articles/206704659-How-Does-the-App-Calculate-Sleep-Quality-) They found that people slept with a mean sleep quality of 72.3 (out of 100) and a st. dev of 14.2.\n",
    "\n",
    "*Pilcher et al. (1997)* also measure sleep quality but in a different way. They used a self-assesed survey of sleep quality on a scale of 1 - 7 with 1 being awful and 7 being great. They found that the subjects had a mean sleep quality of 4.99 with a st. dev of 0.97. We can somewhat try to calculate these scores if they were 1-100 like in the Sleep Cycle app above. As there can be no lower number than 1 and no higher than 7, these can be the end of our scale at 0% and 100%. If we put numbers 2 - 6 on that scale, they would be every 16.66% at 16.66%, 33.32%, 49.98%, 66.64% and 83.3%.\n",
    "A mean score of 4.99 would be similar to a score of 66.63 on the Sleep Cycle app with a standard deviation of 16.16 (16.66 * 0.97). These numbers are close enough were we can reasonably use either method for sleep quality.\n",
    "\n",
    "In many sleep studies, the most frequently used indicator of sleep quality is the [Pittsburgh Sleep Quality Index](http://www.opapc.com/uploads/documents/PSQI.pdf) (PSQI). This is a measure of self-reported sleep quality and disturbance. It was first used by DJ Buysse et al. in 1989, and has since been used in many studies to measure sleep index as well as translated into many other languages for use in other countries. The PSQI has 7 different components with the highest score of 21 conveying the poorest sleep quality.\n",
    "\n",
    "*Grander et al. (2006)*, measure the relationship between PSQI scores and other tests of sleep and stress in a non-clinical setting. They found that the mean PSQI score was 4.07 and an inter-quartile range of 3.0. This is somewhat contracted to the results of *El Hangouche et al. (2018*) who found that PSQI score among medical student had a mean score of 6.36 with a std. dev of 3.047. These scores are similar to that of *Lunde et al. (2012)* who, when analysing sleep scores of patients with multiple sclerosis, had a mean PSQI score of 6.3 in their control group with a std. dev of 4.1.\n",
    "\n",
    "[This](https://www.researchgate.net/figure/histograms-showing-the-distribution-of-Epworth-sleepiness-scale-and-PsQi-score-in-the_fig1_327489806) histogram by *El Hangouche et al. (2018)* concluded that sleep quality follows a normal distribution where sleep quality is measured by the Pittsburgh Sleep Quality Index.\n",
    "\n",
    "For our sleep quality data, we will use scores from the Pittsburgh Sleep Quality Index as a measure for sleep quality. We will use the PSQI scores of the control group of Lunde et al., 2021. Are sleep quality data will have a **mean of 6.3 and a std. dev of 4.1 with a normal distribution.**\n",
    "\n",
    "It should be noted that one of the 7 components in the PSQI is sleeping hours.\n"
   ]
  },
  {
   "cell_type": "markdown",
   "metadata": {},
   "source": [
    "***"
   ]
  },
  {
   "cell_type": "markdown",
   "metadata": {},
   "source": [
    "## Sleep Hygeine\n",
    "\n",
    "[Sleep hygeine](https://www.sleepfoundation.org/sleep-hygiene) is the practices and habits that are conducive to having a good night's sleep. Some elements of sleep hygeine are:\n",
    "\n",
    "- Going to bed at a consistent time\n",
    "- Avoiding screens in the 30mins - 1 hour before bed\n",
    "- Avoiding coffee later in the day\n",
    "- Getting exercise in the day\n",
    "- Setting up a good environment to sleep in\n",
    "\n",
    "Because sleep hygeine encompasses so many things, there does not seem to be a standerdised measure of sleep hygeine in research. Often, researchers come up with their own index for sleep hygeine, such as the Sleep Hygeine Index used by *Mastin et al., 2006* or the Sleep Hygeine Awareness and Practice Scale (SHAPS) used by *Brown and Soper, 2002*. Other research uses an untitled questionnaire on some aspects of sleep hygeine, like *Brick et al., 2013*. We will look at these 3 studies and assess the best measure to use in our dataset.\n",
    "\n",
    "Mastin et al. used a self-made Sleep Hygeine Index to measure the sleep hygeine of the subjects. It is a 13-item self-administered index, influenced by the diagnostic criteria for inadequate sleep hygein in the International Classification of Sleep Disorders in 1990. A score is given based on answers to this index, with a higher score indicating worse sleep hygeine. The score for this index had a mean of 34.66 with a std. dev of 6.6 and a range of 17-55. The upper limit was not specified. It is reported as having good test-retest reliability. The exact questions can be found in the index of this study.\n",
    "\n",
    "Brown and Soper used a Sleep Hygeine Awareness and Practice Scale (SHAPS) First developed in 1986 by Lacks and Rotert. The Awareness section of SHAPS has 2 parts, the first is 13 items that measure the user's knowledge of the impact of certain behaviours on sleep (awareness), the second ask about the users knowledge of the impact of 18 common foods, beverages and drugs on sleep. The Practice section of SHAPS contains 19 items that indicate how often the user engages in behaviours that affect sleep on a scale from 0 to 7. For the practice portion of the index, subject who had a good sleep quality had a mean score of 19.68 and std. dev of 1.01 while subjects with a poor sleep quality had a mean Practice score of 34.74 and a std. dev of 0.98. A low score is preferred on the SHAPS index.\n",
    "\n",
    "Brick et al., 2013, came up with their own questions based on common sleep hygein behaviours. These were comared to sleep quality scores from the PSQI. Each individual category was correlated with the PSQI, although no overall score was given. No mean scores of the categories were given either.\n",
    "\n",
    "For the data in this project, the Sleep Hygeine index scores by Mastin et al., 2006 will be used. As the mean scores were close to the middle of the range and the min and max in the given range are both close to 3 std. devs away from the mean, it can reasonably be said that the data was normally distributed. For our dataset, we will use **a mean of 34.66 with a std. dev of 6.6 and a Normal distribution.**"
   ]
  },
  {
   "cell_type": "markdown",
   "metadata": {},
   "source": [
    "***"
   ]
  },
  {
   "cell_type": "markdown",
   "metadata": {},
   "source": [
    "### Stress\n",
    "\n",
    "There are many studies who measure the stress in subject and its effect on sleep. *Verlander et al., 1999* measure stress and sleep patterns in college students. They measures stress using a Derogatis Stress Profile, a 77 question self-report of stress. This focused on 3 domains of stress: Emotional Response, Environmental Events and Personal Mediators. Means and std. devs of the scores were not given.\n",
    "\n",
    "Kashani et al., 2012, measured stress in patients using a Perceived Stress Scale (PSS). The PSS has 14 questions with a score of 0-4, given a rnage of scores from 0 - 56, with a higher score indicating higher stress. The mean PSS score in this study was 22.4, with a standard deviation of 8.1. These scores were correlated with PSQI scores, total sleep time and other heath metrics.\n",
    "\n",
    "Slavin et al., 2015, examined the association of percieved stress with sleep duration and quality in police officers in New York. The PSS was also used in this study. The mean PSS score was 20.0 with a std. dev of 7.9. These scores were correlated with sleep duration and PSQI scores, among others.\n",
    "\n",
    "The histogram in [this](https://www.frontiersin.org/articles/10.3389/fpsyt.2021.656664/full) study by Nguyen Tran et al., 2021 would indicates that PSS scores have a normal distribution.\n",
    "\n",
    "For our dataset, we will be using Percieved Stress Scale Scores. We will create a dataset with a **mean of 22.4 and a std. dev of 8.1 with a normal distribution.**"
   ]
  },
  {
   "cell_type": "markdown",
   "metadata": {},
   "source": [
    "***"
   ]
  },
  {
   "cell_type": "markdown",
   "metadata": {},
   "source": [
    "### Alcohol Intake"
   ]
  },
  {
   "cell_type": "markdown",
   "metadata": {},
   "source": [
    "***"
   ]
  },
  {
   "cell_type": "markdown",
   "metadata": {},
   "source": [
    "## Variable Interactions\n",
    "***"
   ]
  },
  {
   "cell_type": "markdown",
   "metadata": {},
   "source": [
    "### Sleep Hygeine"
   ]
  },
  {
   "cell_type": "markdown",
   "metadata": {},
   "source": [
    "***"
   ]
  },
  {
   "cell_type": "markdown",
   "metadata": {},
   "source": [
    "### Stress"
   ]
  },
  {
   "cell_type": "markdown",
   "metadata": {},
   "source": [
    "***"
   ]
  },
  {
   "cell_type": "markdown",
   "metadata": {},
   "source": [
    "### Alcohol Intake"
   ]
  },
  {
   "cell_type": "markdown",
   "metadata": {},
   "source": [
    "***"
   ]
  },
  {
   "cell_type": "markdown",
   "metadata": {},
   "source": [
    "## Data Visualisation"
   ]
  },
  {
   "cell_type": "markdown",
   "metadata": {},
   "source": [
    "***"
   ]
  },
  {
   "cell_type": "markdown",
   "metadata": {},
   "source": [
    "### Sleep Hours"
   ]
  },
  {
   "cell_type": "markdown",
   "metadata": {},
   "source": [
    "***"
   ]
  },
  {
   "cell_type": "markdown",
   "metadata": {},
   "source": [
    "### Sleep Quality"
   ]
  },
  {
   "cell_type": "markdown",
   "metadata": {},
   "source": [
    "***"
   ]
  },
  {
   "cell_type": "markdown",
   "metadata": {},
   "source": [
    "### Sleep Hygeine"
   ]
  },
  {
   "cell_type": "markdown",
   "metadata": {},
   "source": [
    "***"
   ]
  },
  {
   "cell_type": "markdown",
   "metadata": {},
   "source": [
    "### Stress"
   ]
  },
  {
   "cell_type": "markdown",
   "metadata": {},
   "source": [
    "***"
   ]
  },
  {
   "cell_type": "markdown",
   "metadata": {},
   "source": [
    "### Alcohol Intake"
   ]
  },
  {
   "cell_type": "markdown",
   "metadata": {},
   "source": [
    "***"
   ]
  },
  {
   "cell_type": "markdown",
   "metadata": {},
   "source": [
    "## Sleep Data Algorithm"
   ]
  },
  {
   "cell_type": "markdown",
   "metadata": {},
   "source": [
    "***"
   ]
  },
  {
   "cell_type": "markdown",
   "metadata": {},
   "source": [
    "## References\n",
    "***\n",
    "- [Robbins, R., Affouf, M., Seixas, A., Beaugris, L., Avirappattu, G. and Jean-Louis, G., 2020. Four-year trends in sleep duration and quality: a longitudinal study using data from a commercially available sleep tracker. Journal of medical Internet research, 22(2), p.e14735.](https://www.jmir.org/2020/2/e14735/) Sleep Cycle Hours, Quantity\n",
    "\n",
    "- [PILCHER, J.J., GINTER, D.R. and SADOWSKY, B., 1997. SLEEP QUALITY VERSUS SLEEP QUANTITY: RELATIONSHIPS BETWEEN SLEEP AND MEASURES OF HEALTH, WELL-BEING AND SLEEPINESS IN COLLEGE STUDENTS. Journal of Psychosomatic Research, 42(6), pp.583-596.](https://www.researchgate.net/profile/June-Pilcher/publication/13992227_Sleep_quality_versus_sleep_quantity_Relationships_between_sleep_and_measures_of_health_well-being_and_sleepiness_in_college_students/links/59d8d8790f7e9b12b368615a/Sleep-quality-versus-sleep-quantity-Relationships-between-sleep-and-measures-of-health-well-being-and-sleepiness-in-college-students.pdf) Sleep Hours, Quality (College Students)\n",
    "\n",
    "- [Landolt, H.P., 2008. Genotype-dependent differences in sleep, vigilance, and response to stimulants. Current pharmaceutical design, 14(32), pp.3396-3407.](https://www.researchgate.net/figure/Fig-1-Large-variation-and-normal-distribution-in-self-rated-sleep-duration-average_fig1_224953802) Sleep Histogram\n",
    "\n",
    "- [El Hangouche, A.J., Jniene, A., Aboudrar, S., Errguig, L., Rkain, H., Cherti, M. and Dakka, T., 2018. Relationship between poor quality sleep, excessive daytime sleepiness and low academic performance in medical students. Advances in medical education and practice, 9, p.631.](https://www.ncbi.nlm.nih.gov/pmc/articles/PMC6135210/) - Sleep Quality Histogram\n",
    "\n",
    "- [Chueh, K.H., Guilleminault, C. and Chia-Mo, L.I.N., 2019. Alcohol consumption as a moderator of anxiety and sleep quality. The Journal of Nursing Research, 27(3), p.e23.](https://www.ncbi.nlm.nih.gov/pmc/articles/PMC6554008/) Alcohol and Sleep Quality\n",
    "\n",
    "- [Benham, G., 2021. Stress and sleep in college students prior to and during the COVID‐19 pandemic. Stress and Health, 37(3), pp.504-515.](https://onlinelibrary.wiley.com/doi/full/10.1002/smi.3016) Stress and sleep duration, quality during Covid\n",
    "\n",
    "- [Buysse, D.J., Reynolds III, C.F., Monk, T.H., Berman, S.R. and Kupfer, D.J., 1989. The Pittsburgh Sleep Quality Index: a new instrument for psychiatric practice and research. Psychiatry research, 28(2), pp.193-213.](https://www.sciencedirect.com/science/article/abs/pii/0165178189900474) PSQI\n",
    "\n",
    "- [Grandner, M.A., Kripke, D.F., Yoon, I.Y. and Youngstedt, S.D., 2006. Criterion validity of the Pittsburgh Sleep Quality Index: Investigation in a non-clinical sample. Sleep and biological rhythms, 4(2), pp.129-136.](https://www.ncbi.nlm.nih.gov/pmc/articles/PMC3399671/) PSQI means, st dev\n",
    "\n",
    "- [Bøe Lunde, H.M., Aae, T.F., Indrevåg, W., Aarseth, J., Bjorvatn, B., Myhr, K.M. and Bø, L., 2012. Poor sleep in patients with multiple sclerosis. PloS one, 7(11), p.e49996.](https://journals.plos.org/plosone/article?id=10.1371/journal.pone.0049996) PSQI control scores\n",
    "\n",
    "- [Mastin, D.F., Bryson, J. and Corwyn, R., 2006. Assessment of sleep hygiene using the Sleep Hygiene Index. Journal of behavioral medicine, 29(3), pp.223-227.](https://www.researchgate.net/profile/David-Mastin/publication/7222661_Assessment_of_Sleep_Hygiene_Using_the_Sleep_Hygiene_Index/links/54e653b40cf2bff5a4f52da5/Assessment-of-Sleep-Hygiene-Using-the-Sleep-Hygiene-Index.pdf) Sleep Hygeine Index\n",
    "\n",
    "- [Brown, F.C., Buboltz Jr, W.C. and Soper, B., 2002. Relationship of sleep hygiene awareness, sleep hygiene practices, and sleep quality in university students. Behavioral medicine, 28(1), pp.33-38.](https://citeseerx.ist.psu.edu/viewdoc/download?doi=10.1.1.884.3251&rep=rep1&type=pdf) SHAPS\n",
    "\n",
    "- [Brick, C.A., Seely, D.L. and Palermo, T.M., 2010. Association between sleep hygiene and sleep quality in medical students. Behavioral sleep medicine, 8(2), pp.113-121.](https://www.ncbi.nlm.nih.gov/pmc/articles/PMC3572193/)\n",
    "\n",
    "- [Kashani, M., Eliasson, A. and Vernalis, M., 2012. Perceived stress correlates with disturbed sleep: a link connecting stress and cardiovascular disease. Stress, 15(1), pp.45-51.](https://www.tandfonline.com/doi/pdf/10.3109/10253890.2011.578266) stress and sleep (cardiovascular)\n",
    "\n",
    "- [Charles, L.E., Slaven, J.E., Mnatsakanova, A., Ma, C., Violanti, J.M., Fekedulegn, D., Andrew, M.E., Vila, B.J. and Burchfiel, C.M., 2011. Association of perceived stress with sleep duration and sleep quality in police officers. International journal of emergency mental health, 13(4), p.229.](https://www.ncbi.nlm.nih.gov/pmc/articles/PMC4681282/) stress and sleep police officers\n",
    "\n",
    "- [Verlander, L.A., Benedict, J.O. and Hanson, D.P., 1999. Stress and sleep patterns of college students. Perceptual and Motor Skills, 88(3), pp.893-898.](https://journals.sagepub.com/doi/pdf/10.2466/pms.1999.88.3.893) stress and sleep colleg students\n",
    "\n",
    "- [Huy, N.T., Nguyen Tran, M.D., Mohammed Alhady, S.T., Luu, M.N., Hassan, A.K., Giang, T.V., Truong, L.V., Ravikulan, R., Raut, A.P., Dayyab, F.M. and Durme, S.P., 2021. Perceived Stress of Quarantine and Isolation During COVID-19 Pandemic: A Global Survey. Frontiers in psychiatry, 12, p.651.](https://www.frontiersin.org/articles/10.3389/fpsyt.2021.656664/full) PSS covid"
   ]
  },
  {
   "cell_type": "markdown",
   "metadata": {},
   "source": [
    "***\n",
    "# The End\n",
    "***"
   ]
  }
 ],
 "metadata": {
  "kernelspec": {
   "display_name": "Python 3",
   "language": "python",
   "name": "python3"
  },
  "language_info": {
   "codemirror_mode": {
    "name": "ipython",
    "version": 3
   },
   "file_extension": ".py",
   "mimetype": "text/x-python",
   "name": "python",
   "nbconvert_exporter": "python",
   "pygments_lexer": "ipython3",
   "version": "3.8.5"
  }
 },
 "nbformat": 4,
 "nbformat_minor": 4
}
