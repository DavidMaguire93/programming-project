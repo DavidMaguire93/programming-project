{
 "cells": [
  {
   "cell_type": "markdown",
   "metadata": {},
   "source": [
    "# A Simulated Dataset of Factors Influencing Sleep\n",
    "David Maguire"
   ]
  },
  {
   "cell_type": "code",
   "execution_count": 1,
   "metadata": {},
   "outputs": [],
   "source": [
    "import numpy as np\n",
    "import matplotlib.pyplot as plt\n",
    "import pandas as pd\n",
    "import seaborn as sns"
   ]
  },
  {
   "cell_type": "markdown",
   "metadata": {},
   "source": [
    "# Introduction\n",
    "***"
   ]
  },
  {
   "cell_type": "markdown",
   "metadata": {},
   "source": [
    "For this project, I will be looking at the effect of 3 variables on sleep . These 3 variables are sleep hygeine, stress and alcohol intake. I will have 2 performance indicators for sleep. These are sleep duration and sleep quality. Once I review the literature and come up with appropriate datasets for the variables, I will then look to connect them via the correlations found in my research."
   ]
  },
  {
   "cell_type": "markdown",
   "metadata": {},
   "source": [
    "***"
   ]
  },
  {
   "cell_type": "markdown",
   "metadata": {},
   "source": [
    "# Dataset Variables\n",
    "***"
   ]
  },
  {
   "cell_type": "markdown",
   "metadata": {},
   "source": [
    "## Sleep Hours\n",
    "One of the 2 measures of a good or bad sleep is sleep hours. This is simply the total hours of sleep that a subject gets in a day/night. Although the degree of restlessness / awakeness during a sleep is debatable (some sleeping apps have different definitions of sleeping hours, for example), we will be using data from a sleeping app called Sleep Cycle. This data will be compared to other sources of research to make sure it aligns.\n",
    "\n",
    "*Robbins et al. (2020)* measured sleeping hours and quality of teens and adults in New York over a 4 year period. While the primary goal of the research was to contrast sleep hours and quality across multiple cohorts, times of year and locations, the total sleep statistics can be used for the purposes of this analysis.\n",
    "\n",
    "The mean sleep hours found in the study was 7.1 with a st. dev of 1.4. While Robbins et al. did not supply a histogram chart of the sleeping hours, [This](https://www.researchgate.net/figure/Fig-1-Large-variation-and-normal-distribution-in-self-rated-sleep-duration-average_fig1_224953802) histogram from research by *Landholt (2008)* shows that sleep hours follow a normal distribution.\n",
    "\n",
    "*Pilcher et al. (1997)* measured sleep hours and quality in college students and found similar results in terms of sleep hours, with a mean of 7.06 hours and a st. dev of 1.11.\n",
    "\n",
    "As this data will represent the general adult population and not just college students, we will use the results of Robbins et al. and use a **mean of 7.1 hours and a st. dev of 1.4 with a normal distribution** for our data of sleep hours."
   ]
  },
  {
   "cell_type": "markdown",
   "metadata": {},
   "source": [
    "***"
   ]
  },
  {
   "cell_type": "markdown",
   "metadata": {},
   "source": [
    "## Sleep Quality\n",
    "Many studies that examine sleep hours also examine sleep quality. With that in mind we can look at the previous studies that we looked at for sleep hours for means and st. devs. *Robbins et al. (2020)* also looked at sleep quality. In this study, quality was measured using the sleep quality metric from the app Sleep Cycle. The metric uses time in bed, time in deep sleep, motion and movement and times awake to measure the quality of sleep. This information can be found [here.](https://support.sleepcycle.com/hc/en-us/articles/206704659-How-Does-the-App-Calculate-Sleep-Quality-) They found that people slept with a mean sleep quality of 72.3 (out of 100) and a st. dev of 14.2.\n",
    "\n",
    "*Pilcher et al. (1997)* also measured sleep quality but in a different way. They used a self-assesed survey of sleep quality on a scale of 1 - 7 with 1 being awful and 7 being great. They found that the subjects had a mean sleep quality of 4.99 with a st. dev of 0.97. We can somewhat try to calculate these scores if they were 1-100 like in the Sleep Cycle app above. As there can be no lower number than 1 and no higher than 7, these can be the end of our scale at 0% and 100%. If we put numbers 2 - 6 on that scale, they would be every 16.66% at 16.66%, 33.32%, 49.98%, 66.64% and 83.3%.\n",
    "A mean score of 4.99 would be similar to a score of 66.63 on the Sleep Cycle app with a standard deviation of 16.16 (16.66 * 0.97). These numbers are close enough were we can reasonably use either method for sleep quality.\n",
    "\n",
    "In many sleep studies, the most frequently used indicator of sleep quality is the [Pittsburgh Sleep Quality Index](http://www.opapc.com/uploads/documents/PSQI.pdf) (PSQI). This is a measure of self-reported sleep quality and disturbance. It was first used by DJ Buysse et al. in 1989, and has since been used in many studies to measure sleep index as well as translated into many other languages for use in other countries. The PSQI has 7 different components with the highest score of 21 conveying the poorest sleep quality.\n",
    "\n",
    "*Grander et al. (2006)*, measured the relationship between PSQI scores and other tests of sleep and stress in a non-clinical setting. They found that the mean PSQI score was 4.07 and an inter-quartile range of 3.0. This is somewhat contracted to the results of *El Hangouche et al. (2018)* who found that PSQI score among medical student had a mean score of 6.36 with a std. dev of 3.047. These scores are similar to that of *Lunde et al. (2012)* who, when analysing sleep scores of patients with multiple sclerosis, had a mean PSQI score of 6.3 in their control group with a std. dev of 4.1.\n",
    "\n",
    "[This](https://www.researchgate.net/figure/histograms-showing-the-distribution-of-Epworth-sleepiness-scale-and-PsQi-score-in-the_fig1_327489806) histogram by *El Hangouche et al. (2018)* concluded that sleep quality follows a normal distribution where sleep quality is measured by the Pittsburgh Sleep Quality Index.\n",
    "\n",
    "For our sleep quality data, we will use scores from the Pittsburgh Sleep Quality Index as a measure for sleep quality. We will use the PSQI scores of El Hangouche et al. (2018). Our sleep quality data will have a **mean of 6.36 and a std. dev of 3.047 with a normal distribution.**\n",
    "\n",
    "It should be noted that one of the 7 components in the PSQI is sleeping hours.\n"
   ]
  },
  {
   "cell_type": "markdown",
   "metadata": {},
   "source": [
    "***"
   ]
  },
  {
   "cell_type": "markdown",
   "metadata": {},
   "source": [
    "## Sleep Hygeine\n",
    "\n",
    "[Sleep hygeine](https://www.sleepfoundation.org/sleep-hygiene) is the practices and habits that are conducive to having a good night's sleep. Some elements of sleep hygeine are:\n",
    "\n",
    "- Going to bed at a consistent time\n",
    "- Avoiding screens in the 30mins - 1 hour before bed\n",
    "- Avoiding coffee later in the day\n",
    "- Getting exercise in the day\n",
    "- Setting up a good environment to sleep in\n",
    "\n",
    "Because sleep hygeine encompasses so many things, there does not seem to be a standerdised measure of sleep hygeine in research. Often, researchers come up with their own index for sleep hygeine, such as the Sleep Hygeine Index used by *Mastin et al., 2006* or the Sleep Hygeine Awareness and Practice Scale (SHAPS) used by *Brown and Soper, 2002*. Other research uses an untitled questionnaire on some aspects of sleep hygeine, like *Brick et al., 2013*. We will look at these 3 studies and assess the best measure to use in our dataset.\n",
    "\n",
    "Mastin et al. used a self-made Sleep Hygeine Index to measure the sleep hygeine of the subjects. It is a 13-item self-administered index, influenced by the diagnostic criteria for inadequate sleep hygeine in the International Classification of Sleep Disorders in 1990. A score is given based on answers to this index, with a higher score indicating worse sleep hygeine. The score for this index had a mean of 34.66 with a std. dev of 6.6 and a range of 17-55. The upper limit was not specified. It is reported as having good test-retest reliability. The exact questions can be found in the index of this study.\n",
    "\n",
    "Brown and Soper used a Sleep Hygeine Awareness and Practice Scale (SHAPS) First developed in 1986 by Lacks and Rotert. The Awareness section of SHAPS has 2 parts, the first is 13 items that measure the user's knowledge of the impact of certain behaviours on sleep (awareness), the second ask about the users knowledge of the impact of 18 common foods, beverages and drugs on sleep. The Practice section of SHAPS contains 19 items that indicate how often the user engages in behaviours that affect sleep on a scale from 0 to 7. For the practice portion of the index, subject who had a good sleep quality had a mean score of 19.68 and std. dev of 1.01 while subjects with a poor sleep quality had a mean Practice score of 34.74 and a std. dev of 0.98. A low score is preferred on the SHAPS index.\n",
    "\n",
    "Brick et al., 2013, came up with their own questions based on common sleep hygeine behaviours. These were comared to sleep quality scores from the PSQI. Each individual category was correlated with the PSQI, although no overall score was given. No mean scores of the categories were given either.\n",
    "\n",
    "For the data in this project, the Sleep Hygeine index scores by Mastin et al., 2006 will be used. As the mean scores were close to the middle of the range and the min and max in the given range are both close to 3 std. devs away from the mean, it can reasonably be said that the data was normally distributed. For our dataset, we will use **a mean of 34.66 with a std. dev of 6.6 and a Normal distribution.**"
   ]
  },
  {
   "cell_type": "markdown",
   "metadata": {},
   "source": [
    "***"
   ]
  },
  {
   "cell_type": "markdown",
   "metadata": {},
   "source": [
    "### Stress\n",
    "\n",
    "There are many studies who measure the stress in subject and its effect on sleep. *Verlander et al., 1999* measured stress and sleep patterns in college students. They measured stress using a Derogatis Stress Profile, a 77 question self-report of stress. This focused on 3 domains of stress: Emotional Response, Environmental Events and Personal Mediators. Means and std. devs of the scores were not given.\n",
    "\n",
    "Kashani et al., 2012, measured stress in patients using a Perceived Stress Scale (PSS). The PSS has 14 questions with a score of 0-4, given a rnage of scores from 0 - 56, with a higher score indicating higher stress. The mean PSS score in this study was 22.4, with a standard deviation of 8.1. These scores were correlated with PSQI scores, total sleep time and other heath metrics.\n",
    "\n",
    "Slavin et al., 2015, examined the association of percieved stress with sleep duration and quality in police officers in New York. The PSS was also used in this study. The mean PSS score was 20.0 with a std. dev of 7.9. These scores were correlated with sleep duration and PSQI scores, among others.\n",
    "\n",
    "The histogram in [this](https://www.frontiersin.org/articles/10.3389/fpsyt.2021.656664/full) study by Nguyen Tran et al., 2021 would indicates that PSS scores have a normal distribution.\n",
    "\n",
    "For our dataset, we will be using Percieved Stress Scale Scores. We will create a dataset with a **mean of 22.4 and a std. dev of 8.1 with a normal distribution.**"
   ]
  },
  {
   "cell_type": "markdown",
   "metadata": {},
   "source": [
    "***"
   ]
  },
  {
   "cell_type": "markdown",
   "metadata": {},
   "source": [
    "### Alcohol Intake\n",
    "A frequently used indicator of alcohol use in research is the Daily Drinks Questionnaire (DDQ). This questionnaire will ask the user how many drinks they would have in typical specific day of the week e.g. Monday. It will ask this for all the 7 days of the week and sum the totals.\n",
    "\n",
    "The DDQ was used in research by *Kenney et al., 2012* and *Kenney et al., 2013*. In the 2012 study, weekly alcohol consumption was correlated to the different categories of the PSQI among college students. Means and std. devs are given by gender, with males having a mean drinks per week of 9.77 with a std dev of 10.69 and females having a mean of 6.4 and a std dev. of 6.38 drinks per week The range of alcohol consumption was 0 - 48.\n",
    "\n",
    "In the 2013 study by Kenney et al., mental health, alcohol and sleep quality were correlated among universityt students. Again, DDQ was used to measure alcohol intake. The mean alcohol use was 10.97 with a std dev. of 9.65 drinks per week.\n",
    "\n",
    "Although both of these studies focus on college students, there is little research on alcohol intake in the general population. For this reason, we will use a **mean drinks per week of 10.97 with a std. dev of 9.65.** The distribution of this is not normal dues to the high max (48) and std. dev compared to the mean. A positively-skewed distribution may be used, but that will be investigated later."
   ]
  },
  {
   "cell_type": "markdown",
   "metadata": {},
   "source": [
    "***"
   ]
  },
  {
   "cell_type": "markdown",
   "metadata": {},
   "source": [
    "## Variable Interactions\n",
    "***"
   ]
  },
  {
   "cell_type": "markdown",
   "metadata": {},
   "source": [
    "### Sleep Hygeine\n",
    "\n",
    "Mastin et al. (2006) shows that sleep hygeine scores for their Sleep Hygeine Index had extremely positive (p < 0.01) correlation to sleep quality measured via PSQI among all the componenet of the PSQI, nicluding sleep duration.\n",
    "\n",
    "Browne and Soper (2002) found a positive correlation between their sleep hygeine score (for the Practice portion) and the PSQI rating.\n",
    "\n",
    "Brick et al., (2013) found that many of their sleep hygeine categories correlated with sleep quality and duration.\n",
    "\n",
    "Based on this research, we can safely conclude that **sleep hygeine is significantly correlated with both sleep duration and quality**, with better sleep hygeine resulting in a longer and better sleep.\n",
    "\n"
   ]
  },
  {
   "cell_type": "markdown",
   "metadata": {},
   "source": [
    "***"
   ]
  },
  {
   "cell_type": "markdown",
   "metadata": {},
   "source": [
    "### Stress\n",
    "\n",
    "Kashani et al. (2012) found that a higher stress score on the PSS was negatively correlated with sleep duration and quality.\n",
    "\n",
    "Slavin et al. (2015) found similar results, concluding that their percieved stress scores we significantly correlatred with duration and quality of sleep.\n",
    "\n",
    "Verlander et al. (1999) found that one category of 3 in their stress index (environmental events) has a significant correlation with sleep, while 2 categories (emotional responses and environmental events) were significantly correlated with sleep quality.\n",
    "\n",
    "Based on the above research, we can safely conclude that **stress is significantly correlated with both sleep duration and quality**, with a lower stress level resulting in a longer and better sleep.\n",
    "\n",
    "\n",
    "\n"
   ]
  },
  {
   "cell_type": "markdown",
   "metadata": {},
   "source": [
    "***"
   ]
  },
  {
   "cell_type": "markdown",
   "metadata": {},
   "source": [
    "### Alcohol Intake\n",
    "\n",
    "In both of the studies by Kenney et al. (2012, 2013), it was found that alvohol intake has a significant correlation with some aspects of sleep quality (2012) or global sleep quality (2013). No significant correlation was found between alcohol and sleep duration in either study, with an unsignificant but positive correlation even being found.\n",
    "\n",
    "Based on this research, it can be concluded that **Alcohol intake is significantly correlated with sleep quality but not with sleep duration.**"
   ]
  },
  {
   "cell_type": "markdown",
   "metadata": {},
   "source": [
    "***"
   ]
  },
  {
   "cell_type": "markdown",
   "metadata": {},
   "source": [
    "### Interactions Between Independant Variables\n",
    "\n",
    "While there maybe some real-life interaction between the independant variables (alcohol and stress, for example), for the purposes of this project, we will assume no interaction."
   ]
  },
  {
   "cell_type": "markdown",
   "metadata": {},
   "source": [
    "***"
   ]
  },
  {
   "cell_type": "markdown",
   "metadata": {},
   "source": [
    "## Data Visualisation\n",
    "\n",
    "We will now simulate data across all 5 variables. We will use **1000 data points** for this. We will call a seed within each cell so that the results are repeatable."
   ]
  },
  {
   "cell_type": "markdown",
   "metadata": {},
   "source": [
    "***"
   ]
  },
  {
   "cell_type": "markdown",
   "metadata": {},
   "source": [
    "### Sleep Hours\n",
    "\n",
    "For Sleep Hours, we will us a normal distribution with a mean of 7.1 and a std. dev of 1.4."
   ]
  },
  {
   "cell_type": "code",
   "execution_count": 2,
   "metadata": {},
   "outputs": [
    {
     "data": {
      "image/png": "[encoded data removed]",
      "text/plain": [
       "<Figure size 432x288 with 1 Axes>"
      ]
     },
     "metadata": {
      "needs_background": "light"
     },
     "output_type": "display_data"
    }
   ],
   "source": [
    "# Seed calling\n",
    "rng = np.random.default_rng(12345)\n",
    "\n",
    "#numpy random normal distribution\n",
    "hours = rng.normal(loc = 7.1, scale=1.4, size=1000)\n",
    "plt.hist(hours)\n",
    "plt.title(\"Sleep Hours\")\n",
    "plt.xlabel(\"Hours\")\n",
    "plt.show;"
   ]
  },
  {
   "cell_type": "code",
   "execution_count": 3,
   "metadata": {},
   "outputs": [
    {
     "name": "stdout",
     "output_type": "stream",
     "text": [
      "Mean:  7.11156174891799\n",
      "Std. Dev:  1.4213299905801329\n"
     ]
    }
   ],
   "source": [
    "print(\"Mean: \",hours.mean())\n",
    "print(\"Std. Dev: \",hours.std())"
   ]
  },
  {
   "cell_type": "markdown",
   "metadata": {},
   "source": [
    "***"
   ]
  },
  {
   "cell_type": "markdown",
   "metadata": {},
   "source": [
    "### Sleep Quality\n",
    "\n",
    "For Sleep Quality, we will use a normal distribution with a mean of 6.36 and a std. dev of 3.047. We may need to redistribute negative values. Values must be integers so we may need to round."
   ]
  },
  {
   "cell_type": "code",
   "execution_count": 4,
   "metadata": {},
   "outputs": [
    {
     "data": {
      "image/png": "[encoded data removed]",
      "text/plain": [
       "<Figure size 432x288 with 1 Axes>"
      ]
     },
     "metadata": {
      "needs_background": "light"
     },
     "output_type": "display_data"
    }
   ],
   "source": [
    "rng = np.random.default_rng(12346)\n",
    "x = rng.normal(loc = 6.36, scale=3.047, size=1000)\n",
    "quality = np.rint(x)\n",
    "plt.hist(quality)\n",
    "plt.title(\"Sleep Quality (PSQI Scores)\")\n",
    "plt.xlabel(\"PSQI Score\")\n",
    "plt.show;"
   ]
  },
  {
   "cell_type": "code",
   "execution_count": 5,
   "metadata": {},
   "outputs": [],
   "source": [
    "# Take out negative values\n",
    "count = 0\n",
    "for x in quality:\n",
    "    if x <= -1:\n",
    "        quality  = quality[quality != x]\n",
    "        count += 1"
   ]
  },
  {
   "cell_type": "code",
   "execution_count": 6,
   "metadata": {},
   "outputs": [],
   "source": [
    "# Assign new number based on distribution\n",
    "rng = np.random.default_rng(12346)\n",
    "newnums = np.rint(rng.normal(loc = 6.36, scale=3.047, size=count))\n",
    "quality = np.append(quality, newnums)"
   ]
  },
  {
   "cell_type": "code",
   "execution_count": 7,
   "metadata": {},
   "outputs": [
    {
     "data": {
      "image/png": "[encoded data removed]",
      "text/plain": [
       "<Figure size 432x288 with 1 Axes>"
      ]
     },
     "metadata": {
      "needs_background": "light"
     },
     "output_type": "display_data"
    }
   ],
   "source": [
    "# New histogram of positive values\n",
    "plt.hist(quality)\n",
    "plt.title(\"Sleep Quality (PSQI Scores)\")\n",
    "plt.xlabel(\"PSQI Score\")\n",
    "plt.show;"
   ]
  },
  {
   "cell_type": "code",
   "execution_count": 8,
   "metadata": {},
   "outputs": [
    {
     "name": "stdout",
     "output_type": "stream",
     "text": [
      "Mean:  6.321\n",
      "Std. Dev:  3.029514647596212\n"
     ]
    }
   ],
   "source": [
    "print(\"Mean: \",quality.mean())\n",
    "print(\"Std. Dev: \",quality.std())"
   ]
  },
  {
   "cell_type": "markdown",
   "metadata": {},
   "source": [
    "***"
   ]
  },
  {
   "cell_type": "markdown",
   "metadata": {},
   "source": [
    "### Sleep Hygeine\n",
    "\n",
    "For our Sleep Hygeine score, we will use a mean of 34.66 with a std. dev of 6.6 and a Normal distribution. We will round the number to positive integers."
   ]
  },
  {
   "cell_type": "code",
   "execution_count": 9,
   "metadata": {},
   "outputs": [
    {
     "data": {
      "image/png": "[encoded data removed]",
      "text/plain": [
       "<Figure size 432x288 with 1 Axes>"
      ]
     },
     "metadata": {
      "needs_background": "light"
     },
     "output_type": "display_data"
    }
   ],
   "source": [
    "rng = np.random.default_rng(12345)\n",
    "x = rng.normal(loc = 34.66, scale=6.6, size=1000)\n",
    "hygeine = np.rint(x)\n",
    "plt.hist(hygeine)\n",
    "plt.title(\"Sleep Hygeine\")\n",
    "plt.xlabel(\"Sleep Hygeine Score\")\n",
    "plt.show;"
   ]
  },
  {
   "cell_type": "code",
   "execution_count": 10,
   "metadata": {},
   "outputs": [
    {
     "name": "stdout",
     "output_type": "stream",
     "text": [
      "Mean:  34.709\n",
      "Std. Dev:  6.703903266008543\n"
     ]
    }
   ],
   "source": [
    "print(\"Mean: \",hygeine.mean())\n",
    "print(\"Std. Dev: \",hygeine.std())"
   ]
  },
  {
   "cell_type": "markdown",
   "metadata": {},
   "source": [
    "***"
   ]
  },
  {
   "cell_type": "markdown",
   "metadata": {},
   "source": [
    "### Stress\n",
    "\n",
    "For our Stress scores, we will use mean of 22.4 and a std. dev of 8.1 with a normal distribution. We will round the number to positive integers and possible redistribute negative numbers."
   ]
  },
  {
   "cell_type": "code",
   "execution_count": 11,
   "metadata": {},
   "outputs": [
    {
     "data": {
      "image/png": "[encoded data removed]",
      "text/plain": [
       "<Figure size 432x288 with 1 Axes>"
      ]
     },
     "metadata": {
      "needs_background": "light"
     },
     "output_type": "display_data"
    }
   ],
   "source": [
    "rng = np.random.default_rng(12346)\n",
    "x = rng.normal(loc = 22.4, scale=8.1, size=1000)\n",
    "stress = np.rint(x)\n",
    "plt.hist(stress)\n",
    "plt.title(\"Stress Score\")\n",
    "plt.xlabel(\"Stress Score\")\n",
    "plt.show;"
   ]
  },
  {
   "cell_type": "code",
   "execution_count": 12,
   "metadata": {},
   "outputs": [],
   "source": [
    "# Remove negative values\n",
    "count = 0\n",
    "for x in stress:\n",
    "    if x <= -1:\n",
    "        stress  = stress[stress != x]\n",
    "        count += 1"
   ]
  },
  {
   "cell_type": "code",
   "execution_count": 13,
   "metadata": {},
   "outputs": [],
   "source": [
    "rng = np.random.default_rng(12346)\n",
    "newnums = np.rint(rng.normal(loc = 6.36, scale=3.047, size=count))\n",
    "stress = np.append(stress, newnums)"
   ]
  },
  {
   "cell_type": "code",
   "execution_count": 14,
   "metadata": {},
   "outputs": [
    {
     "data": {
      "image/png": "[encoded data removed]",
      "text/plain": [
       "<Figure size 432x288 with 1 Axes>"
      ]
     },
     "metadata": {
      "needs_background": "light"
     },
     "output_type": "display_data"
    }
   ],
   "source": [
    "plt.hist(stress)\n",
    "plt.title(\"Stress Score\")\n",
    "plt.xlabel(\"Stress Score\")\n",
    "plt.show;"
   ]
  },
  {
   "cell_type": "code",
   "execution_count": 15,
   "metadata": {},
   "outputs": [
    {
     "name": "stdout",
     "output_type": "stream",
     "text": [
      "Mean:  22.127\n",
      "Std. Dev:  8.149900060736941\n"
     ]
    }
   ],
   "source": [
    "print(\"Mean: \",stress.mean())\n",
    "print(\"Std. Dev: \",stress.std())"
   ]
  },
  {
   "cell_type": "markdown",
   "metadata": {},
   "source": [
    "***"
   ]
  },
  {
   "cell_type": "markdown",
   "metadata": {},
   "source": [
    "### Alcohol Intake\n",
    "\n",
    "For our alcohol intake score, we will use a mean drinks per week of 10.97 with a std. dev of 9.65. We will mess around with skewness to prevent negative numbers."
   ]
  },
  {
   "cell_type": "code",
   "execution_count": 16,
   "metadata": {},
   "outputs": [
    {
     "data": {
      "image/png": "[encoded data removed]",
      "text/plain": [
       "<Figure size 432x288 with 1 Axes>"
      ]
     },
     "metadata": {
      "needs_background": "light"
     },
     "output_type": "display_data"
    }
   ],
   "source": [
    "# Gamma distribution\n",
    "rng = np.random.default_rng(12345)\n",
    "x = rng.gamma(1.1, scale=10, size=1000)\n",
    "alcohol = np.rint(x)\n",
    "plt.hist(alcohol)\n",
    "plt.title(\"Alcohol Intake\")\n",
    "plt.xlabel(\"Drinks per Week\")\n",
    "plt.show;"
   ]
  },
  {
   "cell_type": "code",
   "execution_count": 17,
   "metadata": {},
   "outputs": [
    {
     "name": "stdout",
     "output_type": "stream",
     "text": [
      "Mean:  11.078\n",
      "Std. Dev:  10.508183287324217\n"
     ]
    }
   ],
   "source": [
    "print(\"Mean: \",alcohol.mean())\n",
    "print(\"Std. Dev: \",alcohol.std())"
   ]
  },
  {
   "cell_type": "markdown",
   "metadata": {},
   "source": [
    "### Alcohol distribution\n",
    "While not perfect and not its proper use, the gamma distribution with a shape of 1.1 and a scale of 10 allows us to acheive a mean and std. dev close to the ones given."
   ]
  },
  {
   "cell_type": "markdown",
   "metadata": {},
   "source": [
    "### Means and Std Dev Discrepancies\n",
    "Some means and std devs are different than what was supplied due to the rounding of numbers."
   ]
  },
  {
   "cell_type": "markdown",
   "metadata": {},
   "source": [
    "***"
   ]
  },
  {
   "cell_type": "markdown",
   "metadata": {},
   "source": [
    "## Sleep Data Algorithm\n",
    "\n",
    "In order to simulate the dataset interactions, apply the score of each independant variable to indexes using pandas. We will then positively or negatively score those indexes based on their distance (in std. devs away from the mean of that variable). Based on each indexes score, it will get a rank of where in the sorted list of dependant variable score it should go.\n",
    "\n",
    "As all 3 independant variables were significantly correlated with sleep quality, we will give them equal weighting when applying scores to sleep quality.\n",
    "\n",
    "For sleep duration, we will only count sleep hygein and stress. Each will have equal weighting as both are significantly correlated to sleep duration."
   ]
  },
  {
   "cell_type": "code",
   "execution_count": 18,
   "metadata": {},
   "outputs": [
    {
     "data": {
      "text/html": [
       "<div>\n",
       "<style scoped>\n",
       "    .dataframe tbody tr th:only-of-type {\n",
       "        vertical-align: middle;\n",
       "    }\n",
       "\n",
       "    .dataframe tbody tr th {\n",
       "        vertical-align: top;\n",
       "    }\n",
       "\n",
       "    .dataframe thead th {\n",
       "        text-align: right;\n",
       "    }\n",
       "</style>\n",
       "<table border=\"1\" class=\"dataframe\">\n",
       "  <thead>\n",
       "    <tr style=\"text-align: right;\">\n",
       "      <th></th>\n",
       "      <th>hygeine</th>\n",
       "      <th>stress</th>\n",
       "      <th>alcohol</th>\n",
       "    </tr>\n",
       "  </thead>\n",
       "  <tbody>\n",
       "    <tr>\n",
       "      <th>0</th>\n",
       "      <td>25.0</td>\n",
       "      <td>15.0</td>\n",
       "      <td>1.0</td>\n",
       "    </tr>\n",
       "    <tr>\n",
       "      <th>1</th>\n",
       "      <td>43.0</td>\n",
       "      <td>24.0</td>\n",
       "      <td>2.0</td>\n",
       "    </tr>\n",
       "    <tr>\n",
       "      <th>2</th>\n",
       "      <td>29.0</td>\n",
       "      <td>30.0</td>\n",
       "      <td>7.0</td>\n",
       "    </tr>\n",
       "    <tr>\n",
       "      <th>3</th>\n",
       "      <td>33.0</td>\n",
       "      <td>16.0</td>\n",
       "      <td>1.0</td>\n",
       "    </tr>\n",
       "    <tr>\n",
       "      <th>4</th>\n",
       "      <td>34.0</td>\n",
       "      <td>21.0</td>\n",
       "      <td>11.0</td>\n",
       "    </tr>\n",
       "  </tbody>\n",
       "</table>\n",
       "</div>"
      ],
      "text/plain": [
       "   hygeine  stress  alcohol\n",
       "0     25.0    15.0      1.0\n",
       "1     43.0    24.0      2.0\n",
       "2     29.0    30.0      7.0\n",
       "3     33.0    16.0      1.0\n",
       "4     34.0    21.0     11.0"
      ]
     },
     "execution_count": 18,
     "metadata": {},
     "output_type": "execute_result"
    }
   ],
   "source": [
    "d = {'hygeine': hygeine, 'stress': stress, 'alcohol': alcohol}\n",
    "\n",
    "# Creation of dataframe\n",
    "vars = pd.DataFrame(data = d)\n",
    "vars.head()"
   ]
  },
  {
   "cell_type": "code",
   "execution_count": 19,
   "metadata": {},
   "outputs": [
    {
     "data": {
      "text/html": [
       "<div>\n",
       "<style scoped>\n",
       "    .dataframe tbody tr th:only-of-type {\n",
       "        vertical-align: middle;\n",
       "    }\n",
       "\n",
       "    .dataframe tbody tr th {\n",
       "        vertical-align: top;\n",
       "    }\n",
       "\n",
       "    .dataframe thead th {\n",
       "        text-align: right;\n",
       "    }\n",
       "</style>\n",
       "<table border=\"1\" class=\"dataframe\">\n",
       "  <thead>\n",
       "    <tr style=\"text-align: right;\">\n",
       "      <th></th>\n",
       "      <th>hygeine</th>\n",
       "      <th>stress</th>\n",
       "      <th>alcohol</th>\n",
       "      <th>hygeineMean</th>\n",
       "      <th>stressMean</th>\n",
       "      <th>alcoholMean</th>\n",
       "    </tr>\n",
       "  </thead>\n",
       "  <tbody>\n",
       "    <tr>\n",
       "      <th>0</th>\n",
       "      <td>25.0</td>\n",
       "      <td>15.0</td>\n",
       "      <td>1.0</td>\n",
       "      <td>34.709</td>\n",
       "      <td>22.127</td>\n",
       "      <td>11.078</td>\n",
       "    </tr>\n",
       "    <tr>\n",
       "      <th>1</th>\n",
       "      <td>43.0</td>\n",
       "      <td>24.0</td>\n",
       "      <td>2.0</td>\n",
       "      <td>34.709</td>\n",
       "      <td>22.127</td>\n",
       "      <td>11.078</td>\n",
       "    </tr>\n",
       "    <tr>\n",
       "      <th>2</th>\n",
       "      <td>29.0</td>\n",
       "      <td>30.0</td>\n",
       "      <td>7.0</td>\n",
       "      <td>34.709</td>\n",
       "      <td>22.127</td>\n",
       "      <td>11.078</td>\n",
       "    </tr>\n",
       "    <tr>\n",
       "      <th>3</th>\n",
       "      <td>33.0</td>\n",
       "      <td>16.0</td>\n",
       "      <td>1.0</td>\n",
       "      <td>34.709</td>\n",
       "      <td>22.127</td>\n",
       "      <td>11.078</td>\n",
       "    </tr>\n",
       "    <tr>\n",
       "      <th>4</th>\n",
       "      <td>34.0</td>\n",
       "      <td>21.0</td>\n",
       "      <td>11.0</td>\n",
       "      <td>34.709</td>\n",
       "      <td>22.127</td>\n",
       "      <td>11.078</td>\n",
       "    </tr>\n",
       "  </tbody>\n",
       "</table>\n",
       "</div>"
      ],
      "text/plain": [
       "   hygeine  stress  alcohol  hygeineMean  stressMean  alcoholMean\n",
       "0     25.0    15.0      1.0       34.709      22.127       11.078\n",
       "1     43.0    24.0      2.0       34.709      22.127       11.078\n",
       "2     29.0    30.0      7.0       34.709      22.127       11.078\n",
       "3     33.0    16.0      1.0       34.709      22.127       11.078\n",
       "4     34.0    21.0     11.0       34.709      22.127       11.078"
      ]
     },
     "execution_count": 19,
     "metadata": {},
     "output_type": "execute_result"
    }
   ],
   "source": [
    "# Mean columns added\n",
    "vars[\"hygeineMean\"] = hygeine.mean()\n",
    "vars[\"stressMean\"] = stress.mean()\n",
    "vars[\"alcoholMean\"] = alcohol.mean()\n",
    "vars.head()"
   ]
  },
  {
   "cell_type": "code",
   "execution_count": 20,
   "metadata": {},
   "outputs": [
    {
     "data": {
      "text/html": [
       "<div>\n",
       "<style scoped>\n",
       "    .dataframe tbody tr th:only-of-type {\n",
       "        vertical-align: middle;\n",
       "    }\n",
       "\n",
       "    .dataframe tbody tr th {\n",
       "        vertical-align: top;\n",
       "    }\n",
       "\n",
       "    .dataframe thead th {\n",
       "        text-align: right;\n",
       "    }\n",
       "</style>\n",
       "<table border=\"1\" class=\"dataframe\">\n",
       "  <thead>\n",
       "    <tr style=\"text-align: right;\">\n",
       "      <th></th>\n",
       "      <th>hygeine</th>\n",
       "      <th>stress</th>\n",
       "      <th>alcohol</th>\n",
       "      <th>hygeineMean</th>\n",
       "      <th>stressMean</th>\n",
       "      <th>alcoholMean</th>\n",
       "      <th>hygeineStdDev</th>\n",
       "      <th>stressStdDev</th>\n",
       "      <th>alcoholStdDev</th>\n",
       "    </tr>\n",
       "  </thead>\n",
       "  <tbody>\n",
       "    <tr>\n",
       "      <th>0</th>\n",
       "      <td>25.0</td>\n",
       "      <td>15.0</td>\n",
       "      <td>1.0</td>\n",
       "      <td>34.709</td>\n",
       "      <td>22.127</td>\n",
       "      <td>11.078</td>\n",
       "      <td>6.703903</td>\n",
       "      <td>8.1499</td>\n",
       "      <td>10.508183</td>\n",
       "    </tr>\n",
       "    <tr>\n",
       "      <th>1</th>\n",
       "      <td>43.0</td>\n",
       "      <td>24.0</td>\n",
       "      <td>2.0</td>\n",
       "      <td>34.709</td>\n",
       "      <td>22.127</td>\n",
       "      <td>11.078</td>\n",
       "      <td>6.703903</td>\n",
       "      <td>8.1499</td>\n",
       "      <td>10.508183</td>\n",
       "    </tr>\n",
       "    <tr>\n",
       "      <th>2</th>\n",
       "      <td>29.0</td>\n",
       "      <td>30.0</td>\n",
       "      <td>7.0</td>\n",
       "      <td>34.709</td>\n",
       "      <td>22.127</td>\n",
       "      <td>11.078</td>\n",
       "      <td>6.703903</td>\n",
       "      <td>8.1499</td>\n",
       "      <td>10.508183</td>\n",
       "    </tr>\n",
       "    <tr>\n",
       "      <th>3</th>\n",
       "      <td>33.0</td>\n",
       "      <td>16.0</td>\n",
       "      <td>1.0</td>\n",
       "      <td>34.709</td>\n",
       "      <td>22.127</td>\n",
       "      <td>11.078</td>\n",
       "      <td>6.703903</td>\n",
       "      <td>8.1499</td>\n",
       "      <td>10.508183</td>\n",
       "    </tr>\n",
       "    <tr>\n",
       "      <th>4</th>\n",
       "      <td>34.0</td>\n",
       "      <td>21.0</td>\n",
       "      <td>11.0</td>\n",
       "      <td>34.709</td>\n",
       "      <td>22.127</td>\n",
       "      <td>11.078</td>\n",
       "      <td>6.703903</td>\n",
       "      <td>8.1499</td>\n",
       "      <td>10.508183</td>\n",
       "    </tr>\n",
       "  </tbody>\n",
       "</table>\n",
       "</div>"
      ],
      "text/plain": [
       "   hygeine  stress  alcohol  hygeineMean  stressMean  alcoholMean  \\\n",
       "0     25.0    15.0      1.0       34.709      22.127       11.078   \n",
       "1     43.0    24.0      2.0       34.709      22.127       11.078   \n",
       "2     29.0    30.0      7.0       34.709      22.127       11.078   \n",
       "3     33.0    16.0      1.0       34.709      22.127       11.078   \n",
       "4     34.0    21.0     11.0       34.709      22.127       11.078   \n",
       "\n",
       "   hygeineStdDev  stressStdDev  alcoholStdDev  \n",
       "0       6.703903        8.1499      10.508183  \n",
       "1       6.703903        8.1499      10.508183  \n",
       "2       6.703903        8.1499      10.508183  \n",
       "3       6.703903        8.1499      10.508183  \n",
       "4       6.703903        8.1499      10.508183  "
      ]
     },
     "execution_count": 20,
     "metadata": {},
     "output_type": "execute_result"
    }
   ],
   "source": [
    "# Std dev columns added\n",
    "vars[\"hygeineStdDev\"] = hygeine.std()\n",
    "vars[\"stressStdDev\"] = stress.std()\n",
    "vars[\"alcoholStdDev\"] = alcohol.std()\n",
    "vars.head()"
   ]
  },
  {
   "cell_type": "code",
   "execution_count": 21,
   "metadata": {},
   "outputs": [
    {
     "data": {
      "text/html": [
       "<div>\n",
       "<style scoped>\n",
       "    .dataframe tbody tr th:only-of-type {\n",
       "        vertical-align: middle;\n",
       "    }\n",
       "\n",
       "    .dataframe tbody tr th {\n",
       "        vertical-align: top;\n",
       "    }\n",
       "\n",
       "    .dataframe thead th {\n",
       "        text-align: right;\n",
       "    }\n",
       "</style>\n",
       "<table border=\"1\" class=\"dataframe\">\n",
       "  <thead>\n",
       "    <tr style=\"text-align: right;\">\n",
       "      <th></th>\n",
       "      <th>hygeine</th>\n",
       "      <th>stress</th>\n",
       "      <th>alcohol</th>\n",
       "      <th>hygeineMean</th>\n",
       "      <th>stressMean</th>\n",
       "      <th>alcoholMean</th>\n",
       "      <th>hygeineStdDev</th>\n",
       "      <th>stressStdDev</th>\n",
       "      <th>alcoholStdDev</th>\n",
       "      <th>hygeineScore</th>\n",
       "      <th>stressScore</th>\n",
       "      <th>alcoholScore</th>\n",
       "    </tr>\n",
       "  </thead>\n",
       "  <tbody>\n",
       "    <tr>\n",
       "      <th>0</th>\n",
       "      <td>25.0</td>\n",
       "      <td>15.0</td>\n",
       "      <td>1.0</td>\n",
       "      <td>34.709</td>\n",
       "      <td>22.127</td>\n",
       "      <td>11.078</td>\n",
       "      <td>6.703903</td>\n",
       "      <td>8.1499</td>\n",
       "      <td>10.508183</td>\n",
       "      <td>1.448261</td>\n",
       "      <td>0.874489</td>\n",
       "      <td>0.959062</td>\n",
       "    </tr>\n",
       "    <tr>\n",
       "      <th>1</th>\n",
       "      <td>43.0</td>\n",
       "      <td>24.0</td>\n",
       "      <td>2.0</td>\n",
       "      <td>34.709</td>\n",
       "      <td>22.127</td>\n",
       "      <td>11.078</td>\n",
       "      <td>6.703903</td>\n",
       "      <td>8.1499</td>\n",
       "      <td>10.508183</td>\n",
       "      <td>-1.236742</td>\n",
       "      <td>-0.229819</td>\n",
       "      <td>0.863898</td>\n",
       "    </tr>\n",
       "    <tr>\n",
       "      <th>2</th>\n",
       "      <td>29.0</td>\n",
       "      <td>30.0</td>\n",
       "      <td>7.0</td>\n",
       "      <td>34.709</td>\n",
       "      <td>22.127</td>\n",
       "      <td>11.078</td>\n",
       "      <td>6.703903</td>\n",
       "      <td>8.1499</td>\n",
       "      <td>10.508183</td>\n",
       "      <td>0.851593</td>\n",
       "      <td>-0.966024</td>\n",
       "      <td>0.388078</td>\n",
       "    </tr>\n",
       "    <tr>\n",
       "      <th>3</th>\n",
       "      <td>33.0</td>\n",
       "      <td>16.0</td>\n",
       "      <td>1.0</td>\n",
       "      <td>34.709</td>\n",
       "      <td>22.127</td>\n",
       "      <td>11.078</td>\n",
       "      <td>6.703903</td>\n",
       "      <td>8.1499</td>\n",
       "      <td>10.508183</td>\n",
       "      <td>0.254926</td>\n",
       "      <td>0.751788</td>\n",
       "      <td>0.959062</td>\n",
       "    </tr>\n",
       "    <tr>\n",
       "      <th>4</th>\n",
       "      <td>34.0</td>\n",
       "      <td>21.0</td>\n",
       "      <td>11.0</td>\n",
       "      <td>34.709</td>\n",
       "      <td>22.127</td>\n",
       "      <td>11.078</td>\n",
       "      <td>6.703903</td>\n",
       "      <td>8.1499</td>\n",
       "      <td>10.508183</td>\n",
       "      <td>0.105759</td>\n",
       "      <td>0.138284</td>\n",
       "      <td>0.007423</td>\n",
       "    </tr>\n",
       "  </tbody>\n",
       "</table>\n",
       "</div>"
      ],
      "text/plain": [
       "   hygeine  stress  alcohol  hygeineMean  stressMean  alcoholMean  \\\n",
       "0     25.0    15.0      1.0       34.709      22.127       11.078   \n",
       "1     43.0    24.0      2.0       34.709      22.127       11.078   \n",
       "2     29.0    30.0      7.0       34.709      22.127       11.078   \n",
       "3     33.0    16.0      1.0       34.709      22.127       11.078   \n",
       "4     34.0    21.0     11.0       34.709      22.127       11.078   \n",
       "\n",
       "   hygeineStdDev  stressStdDev  alcoholStdDev  hygeineScore  stressScore  \\\n",
       "0       6.703903        8.1499      10.508183      1.448261     0.874489   \n",
       "1       6.703903        8.1499      10.508183     -1.236742    -0.229819   \n",
       "2       6.703903        8.1499      10.508183      0.851593    -0.966024   \n",
       "3       6.703903        8.1499      10.508183      0.254926     0.751788   \n",
       "4       6.703903        8.1499      10.508183      0.105759     0.138284   \n",
       "\n",
       "   alcoholScore  \n",
       "0      0.959062  \n",
       "1      0.863898  \n",
       "2      0.388078  \n",
       "3      0.959062  \n",
       "4      0.007423  "
      ]
     },
     "execution_count": 21,
     "metadata": {},
     "output_type": "execute_result"
    }
   ],
   "source": [
    "# Score given based on number of st devs away from mean\n",
    "# with each variable, negative values are a better score\n",
    "vars[\"hygeineScore\"] = (vars[\"hygeine\"] - vars[\"hygeineMean\"]) / vars[\"hygeineStdDev\"] *-1\n",
    "vars[\"stressScore\"] = (vars[\"stress\"] - vars[\"stressMean\"]) / vars[\"stressStdDev\"] *-1\n",
    "vars[\"alcoholScore\"] = (vars[\"alcohol\"] - vars[\"alcoholMean\"]) / vars[\"alcoholStdDev\"] *-1\n",
    "\n",
    "vars.head()"
   ]
  },
  {
   "cell_type": "code",
   "execution_count": 22,
   "metadata": {},
   "outputs": [
    {
     "data": {
      "text/html": [
       "<div>\n",
       "<style scoped>\n",
       "    .dataframe tbody tr th:only-of-type {\n",
       "        vertical-align: middle;\n",
       "    }\n",
       "\n",
       "    .dataframe tbody tr th {\n",
       "        vertical-align: top;\n",
       "    }\n",
       "\n",
       "    .dataframe thead th {\n",
       "        text-align: right;\n",
       "    }\n",
       "</style>\n",
       "<table border=\"1\" class=\"dataframe\">\n",
       "  <thead>\n",
       "    <tr style=\"text-align: right;\">\n",
       "      <th></th>\n",
       "      <th>hygeine</th>\n",
       "      <th>stress</th>\n",
       "      <th>alcohol</th>\n",
       "      <th>hygeineMean</th>\n",
       "      <th>stressMean</th>\n",
       "      <th>alcoholMean</th>\n",
       "      <th>hygeineStdDev</th>\n",
       "      <th>stressStdDev</th>\n",
       "      <th>alcoholStdDev</th>\n",
       "      <th>hygeineScore</th>\n",
       "      <th>stressScore</th>\n",
       "      <th>alcoholScore</th>\n",
       "      <th>sleepDurationScore</th>\n",
       "      <th>sleepQualityScore</th>\n",
       "    </tr>\n",
       "  </thead>\n",
       "  <tbody>\n",
       "    <tr>\n",
       "      <th>0</th>\n",
       "      <td>25.0</td>\n",
       "      <td>15.0</td>\n",
       "      <td>1.0</td>\n",
       "      <td>34.709</td>\n",
       "      <td>22.127</td>\n",
       "      <td>11.078</td>\n",
       "      <td>6.703903</td>\n",
       "      <td>8.1499</td>\n",
       "      <td>10.508183</td>\n",
       "      <td>1.448261</td>\n",
       "      <td>0.874489</td>\n",
       "      <td>0.959062</td>\n",
       "      <td>1.161375</td>\n",
       "      <td>1.093937</td>\n",
       "    </tr>\n",
       "    <tr>\n",
       "      <th>1</th>\n",
       "      <td>43.0</td>\n",
       "      <td>24.0</td>\n",
       "      <td>2.0</td>\n",
       "      <td>34.709</td>\n",
       "      <td>22.127</td>\n",
       "      <td>11.078</td>\n",
       "      <td>6.703903</td>\n",
       "      <td>8.1499</td>\n",
       "      <td>10.508183</td>\n",
       "      <td>-1.236742</td>\n",
       "      <td>-0.229819</td>\n",
       "      <td>0.863898</td>\n",
       "      <td>-0.733280</td>\n",
       "      <td>-0.200888</td>\n",
       "    </tr>\n",
       "    <tr>\n",
       "      <th>2</th>\n",
       "      <td>29.0</td>\n",
       "      <td>30.0</td>\n",
       "      <td>7.0</td>\n",
       "      <td>34.709</td>\n",
       "      <td>22.127</td>\n",
       "      <td>11.078</td>\n",
       "      <td>6.703903</td>\n",
       "      <td>8.1499</td>\n",
       "      <td>10.508183</td>\n",
       "      <td>0.851593</td>\n",
       "      <td>-0.966024</td>\n",
       "      <td>0.388078</td>\n",
       "      <td>-0.057215</td>\n",
       "      <td>0.091216</td>\n",
       "    </tr>\n",
       "    <tr>\n",
       "      <th>3</th>\n",
       "      <td>33.0</td>\n",
       "      <td>16.0</td>\n",
       "      <td>1.0</td>\n",
       "      <td>34.709</td>\n",
       "      <td>22.127</td>\n",
       "      <td>11.078</td>\n",
       "      <td>6.703903</td>\n",
       "      <td>8.1499</td>\n",
       "      <td>10.508183</td>\n",
       "      <td>0.254926</td>\n",
       "      <td>0.751788</td>\n",
       "      <td>0.959062</td>\n",
       "      <td>0.503357</td>\n",
       "      <td>0.655259</td>\n",
       "    </tr>\n",
       "    <tr>\n",
       "      <th>4</th>\n",
       "      <td>34.0</td>\n",
       "      <td>21.0</td>\n",
       "      <td>11.0</td>\n",
       "      <td>34.709</td>\n",
       "      <td>22.127</td>\n",
       "      <td>11.078</td>\n",
       "      <td>6.703903</td>\n",
       "      <td>8.1499</td>\n",
       "      <td>10.508183</td>\n",
       "      <td>0.105759</td>\n",
       "      <td>0.138284</td>\n",
       "      <td>0.007423</td>\n",
       "      <td>0.122022</td>\n",
       "      <td>0.083822</td>\n",
       "    </tr>\n",
       "  </tbody>\n",
       "</table>\n",
       "</div>"
      ],
      "text/plain": [
       "   hygeine  stress  alcohol  hygeineMean  stressMean  alcoholMean  \\\n",
       "0     25.0    15.0      1.0       34.709      22.127       11.078   \n",
       "1     43.0    24.0      2.0       34.709      22.127       11.078   \n",
       "2     29.0    30.0      7.0       34.709      22.127       11.078   \n",
       "3     33.0    16.0      1.0       34.709      22.127       11.078   \n",
       "4     34.0    21.0     11.0       34.709      22.127       11.078   \n",
       "\n",
       "   hygeineStdDev  stressStdDev  alcoholStdDev  hygeineScore  stressScore  \\\n",
       "0       6.703903        8.1499      10.508183      1.448261     0.874489   \n",
       "1       6.703903        8.1499      10.508183     -1.236742    -0.229819   \n",
       "2       6.703903        8.1499      10.508183      0.851593    -0.966024   \n",
       "3       6.703903        8.1499      10.508183      0.254926     0.751788   \n",
       "4       6.703903        8.1499      10.508183      0.105759     0.138284   \n",
       "\n",
       "   alcoholScore  sleepDurationScore  sleepQualityScore  \n",
       "0      0.959062            1.161375           1.093937  \n",
       "1      0.863898           -0.733280          -0.200888  \n",
       "2      0.388078           -0.057215           0.091216  \n",
       "3      0.959062            0.503357           0.655259  \n",
       "4      0.007423            0.122022           0.083822  "
      ]
     },
     "execution_count": 22,
     "metadata": {},
     "output_type": "execute_result"
    }
   ],
   "source": [
    "# Assign weighted values to dependant variable scores\n",
    "vars[\"sleepDurationScore\"] = (vars[\"hygeineScore\"] + vars[\"stressScore\"]) / 2\n",
    "vars[\"sleepQualityScore\"] = (vars[\"hygeineScore\"] + vars[\"stressScore\"] + vars[\"alcoholScore\"]) / 3\n",
    "\n",
    "vars.head()"
   ]
  },
  {
   "cell_type": "code",
   "execution_count": 23,
   "metadata": {},
   "outputs": [
    {
     "data": {
      "text/html": [
       "<div>\n",
       "<style scoped>\n",
       "    .dataframe tbody tr th:only-of-type {\n",
       "        vertical-align: middle;\n",
       "    }\n",
       "\n",
       "    .dataframe tbody tr th {\n",
       "        vertical-align: top;\n",
       "    }\n",
       "\n",
       "    .dataframe thead th {\n",
       "        text-align: right;\n",
       "    }\n",
       "</style>\n",
       "<table border=\"1\" class=\"dataframe\">\n",
       "  <thead>\n",
       "    <tr style=\"text-align: right;\">\n",
       "      <th></th>\n",
       "      <th>hygeine</th>\n",
       "      <th>stress</th>\n",
       "      <th>alcohol</th>\n",
       "      <th>hygeineMean</th>\n",
       "      <th>stressMean</th>\n",
       "      <th>alcoholMean</th>\n",
       "      <th>hygeineStdDev</th>\n",
       "      <th>stressStdDev</th>\n",
       "      <th>alcoholStdDev</th>\n",
       "      <th>hygeineScore</th>\n",
       "      <th>stressScore</th>\n",
       "      <th>alcoholScore</th>\n",
       "      <th>sleepDurationScore</th>\n",
       "      <th>sleepQualityScore</th>\n",
       "    </tr>\n",
       "  </thead>\n",
       "  <tbody>\n",
       "    <tr>\n",
       "      <th>0</th>\n",
       "      <td>48.0</td>\n",
       "      <td>42.0</td>\n",
       "      <td>8.0</td>\n",
       "      <td>34.709</td>\n",
       "      <td>22.127</td>\n",
       "      <td>11.078</td>\n",
       "      <td>6.703903</td>\n",
       "      <td>8.1499</td>\n",
       "      <td>10.508183</td>\n",
       "      <td>-1.982576</td>\n",
       "      <td>-2.438435</td>\n",
       "      <td>0.292915</td>\n",
       "      <td>-2.210506</td>\n",
       "      <td>-1.376032</td>\n",
       "    </tr>\n",
       "    <tr>\n",
       "      <th>1</th>\n",
       "      <td>47.0</td>\n",
       "      <td>42.0</td>\n",
       "      <td>24.0</td>\n",
       "      <td>34.709</td>\n",
       "      <td>22.127</td>\n",
       "      <td>11.078</td>\n",
       "      <td>6.703903</td>\n",
       "      <td>8.1499</td>\n",
       "      <td>10.508183</td>\n",
       "      <td>-1.833410</td>\n",
       "      <td>-2.438435</td>\n",
       "      <td>-1.229708</td>\n",
       "      <td>-2.135922</td>\n",
       "      <td>-1.833851</td>\n",
       "    </tr>\n",
       "    <tr>\n",
       "      <th>2</th>\n",
       "      <td>49.0</td>\n",
       "      <td>39.0</td>\n",
       "      <td>6.0</td>\n",
       "      <td>34.709</td>\n",
       "      <td>22.127</td>\n",
       "      <td>11.078</td>\n",
       "      <td>6.703903</td>\n",
       "      <td>8.1499</td>\n",
       "      <td>10.508183</td>\n",
       "      <td>-2.131743</td>\n",
       "      <td>-2.070332</td>\n",
       "      <td>0.483242</td>\n",
       "      <td>-2.101038</td>\n",
       "      <td>-1.239611</td>\n",
       "    </tr>\n",
       "    <tr>\n",
       "      <th>3</th>\n",
       "      <td>51.0</td>\n",
       "      <td>32.0</td>\n",
       "      <td>26.0</td>\n",
       "      <td>34.709</td>\n",
       "      <td>22.127</td>\n",
       "      <td>11.078</td>\n",
       "      <td>6.703903</td>\n",
       "      <td>8.1499</td>\n",
       "      <td>10.508183</td>\n",
       "      <td>-2.430077</td>\n",
       "      <td>-1.211426</td>\n",
       "      <td>-1.420036</td>\n",
       "      <td>-1.820751</td>\n",
       "      <td>-1.687180</td>\n",
       "    </tr>\n",
       "    <tr>\n",
       "      <th>4</th>\n",
       "      <td>49.0</td>\n",
       "      <td>34.0</td>\n",
       "      <td>27.0</td>\n",
       "      <td>34.709</td>\n",
       "      <td>22.127</td>\n",
       "      <td>11.078</td>\n",
       "      <td>6.703903</td>\n",
       "      <td>8.1499</td>\n",
       "      <td>10.508183</td>\n",
       "      <td>-2.131743</td>\n",
       "      <td>-1.456828</td>\n",
       "      <td>-1.515200</td>\n",
       "      <td>-1.794285</td>\n",
       "      <td>-1.701257</td>\n",
       "    </tr>\n",
       "  </tbody>\n",
       "</table>\n",
       "</div>"
      ],
      "text/plain": [
       "   hygeine  stress  alcohol  hygeineMean  stressMean  alcoholMean  \\\n",
       "0     48.0    42.0      8.0       34.709      22.127       11.078   \n",
       "1     47.0    42.0     24.0       34.709      22.127       11.078   \n",
       "2     49.0    39.0      6.0       34.709      22.127       11.078   \n",
       "3     51.0    32.0     26.0       34.709      22.127       11.078   \n",
       "4     49.0    34.0     27.0       34.709      22.127       11.078   \n",
       "\n",
       "   hygeineStdDev  stressStdDev  alcoholStdDev  hygeineScore  stressScore  \\\n",
       "0       6.703903        8.1499      10.508183     -1.982576    -2.438435   \n",
       "1       6.703903        8.1499      10.508183     -1.833410    -2.438435   \n",
       "2       6.703903        8.1499      10.508183     -2.131743    -2.070332   \n",
       "3       6.703903        8.1499      10.508183     -2.430077    -1.211426   \n",
       "4       6.703903        8.1499      10.508183     -2.131743    -1.456828   \n",
       "\n",
       "   alcoholScore  sleepDurationScore  sleepQualityScore  \n",
       "0      0.292915           -2.210506          -1.376032  \n",
       "1     -1.229708           -2.135922          -1.833851  \n",
       "2      0.483242           -2.101038          -1.239611  \n",
       "3     -1.420036           -1.820751          -1.687180  \n",
       "4     -1.515200           -1.794285          -1.701257  "
      ]
     },
     "execution_count": 23,
     "metadata": {},
     "output_type": "execute_result"
    }
   ],
   "source": [
    "# Sort and reindex\n",
    "vars = vars.sort_values(\"sleepDurationScore\", ignore_index=True)\n",
    "vars.head()"
   ]
  },
  {
   "cell_type": "code",
   "execution_count": 24,
   "metadata": {},
   "outputs": [],
   "source": [
    "hours.sort()"
   ]
  },
  {
   "cell_type": "code",
   "execution_count": 25,
   "metadata": {},
   "outputs": [
    {
     "data": {
      "text/html": [
       "<div>\n",
       "<style scoped>\n",
       "    .dataframe tbody tr th:only-of-type {\n",
       "        vertical-align: middle;\n",
       "    }\n",
       "\n",
       "    .dataframe tbody tr th {\n",
       "        vertical-align: top;\n",
       "    }\n",
       "\n",
       "    .dataframe thead th {\n",
       "        text-align: right;\n",
       "    }\n",
       "</style>\n",
       "<table border=\"1\" class=\"dataframe\">\n",
       "  <thead>\n",
       "    <tr style=\"text-align: right;\">\n",
       "      <th></th>\n",
       "      <th>hygeine</th>\n",
       "      <th>stress</th>\n",
       "      <th>alcohol</th>\n",
       "      <th>hygeineMean</th>\n",
       "      <th>stressMean</th>\n",
       "      <th>alcoholMean</th>\n",
       "      <th>hygeineStdDev</th>\n",
       "      <th>stressStdDev</th>\n",
       "      <th>alcoholStdDev</th>\n",
       "      <th>hygeineScore</th>\n",
       "      <th>stressScore</th>\n",
       "      <th>alcoholScore</th>\n",
       "      <th>sleepDurationScore</th>\n",
       "      <th>sleepQualityScore</th>\n",
       "      <th>sleepHours</th>\n",
       "    </tr>\n",
       "  </thead>\n",
       "  <tbody>\n",
       "    <tr>\n",
       "      <th>0</th>\n",
       "      <td>48.0</td>\n",
       "      <td>42.0</td>\n",
       "      <td>8.0</td>\n",
       "      <td>34.709</td>\n",
       "      <td>22.127</td>\n",
       "      <td>11.078</td>\n",
       "      <td>6.703903</td>\n",
       "      <td>8.1499</td>\n",
       "      <td>10.508183</td>\n",
       "      <td>-1.982576</td>\n",
       "      <td>-2.438435</td>\n",
       "      <td>0.292915</td>\n",
       "      <td>-2.210506</td>\n",
       "      <td>-1.376032</td>\n",
       "      <td>2.732548</td>\n",
       "    </tr>\n",
       "    <tr>\n",
       "      <th>1</th>\n",
       "      <td>47.0</td>\n",
       "      <td>42.0</td>\n",
       "      <td>24.0</td>\n",
       "      <td>34.709</td>\n",
       "      <td>22.127</td>\n",
       "      <td>11.078</td>\n",
       "      <td>6.703903</td>\n",
       "      <td>8.1499</td>\n",
       "      <td>10.508183</td>\n",
       "      <td>-1.833410</td>\n",
       "      <td>-2.438435</td>\n",
       "      <td>-1.229708</td>\n",
       "      <td>-2.135922</td>\n",
       "      <td>-1.833851</td>\n",
       "      <td>3.095233</td>\n",
       "    </tr>\n",
       "    <tr>\n",
       "      <th>2</th>\n",
       "      <td>49.0</td>\n",
       "      <td>39.0</td>\n",
       "      <td>6.0</td>\n",
       "      <td>34.709</td>\n",
       "      <td>22.127</td>\n",
       "      <td>11.078</td>\n",
       "      <td>6.703903</td>\n",
       "      <td>8.1499</td>\n",
       "      <td>10.508183</td>\n",
       "      <td>-2.131743</td>\n",
       "      <td>-2.070332</td>\n",
       "      <td>0.483242</td>\n",
       "      <td>-2.101038</td>\n",
       "      <td>-1.239611</td>\n",
       "      <td>3.225993</td>\n",
       "    </tr>\n",
       "    <tr>\n",
       "      <th>3</th>\n",
       "      <td>51.0</td>\n",
       "      <td>32.0</td>\n",
       "      <td>26.0</td>\n",
       "      <td>34.709</td>\n",
       "      <td>22.127</td>\n",
       "      <td>11.078</td>\n",
       "      <td>6.703903</td>\n",
       "      <td>8.1499</td>\n",
       "      <td>10.508183</td>\n",
       "      <td>-2.430077</td>\n",
       "      <td>-1.211426</td>\n",
       "      <td>-1.420036</td>\n",
       "      <td>-1.820751</td>\n",
       "      <td>-1.687180</td>\n",
       "      <td>3.288617</td>\n",
       "    </tr>\n",
       "    <tr>\n",
       "      <th>4</th>\n",
       "      <td>49.0</td>\n",
       "      <td>34.0</td>\n",
       "      <td>27.0</td>\n",
       "      <td>34.709</td>\n",
       "      <td>22.127</td>\n",
       "      <td>11.078</td>\n",
       "      <td>6.703903</td>\n",
       "      <td>8.1499</td>\n",
       "      <td>10.508183</td>\n",
       "      <td>-2.131743</td>\n",
       "      <td>-1.456828</td>\n",
       "      <td>-1.515200</td>\n",
       "      <td>-1.794285</td>\n",
       "      <td>-1.701257</td>\n",
       "      <td>3.404337</td>\n",
       "    </tr>\n",
       "  </tbody>\n",
       "</table>\n",
       "</div>"
      ],
      "text/plain": [
       "   hygeine  stress  alcohol  hygeineMean  stressMean  alcoholMean  \\\n",
       "0     48.0    42.0      8.0       34.709      22.127       11.078   \n",
       "1     47.0    42.0     24.0       34.709      22.127       11.078   \n",
       "2     49.0    39.0      6.0       34.709      22.127       11.078   \n",
       "3     51.0    32.0     26.0       34.709      22.127       11.078   \n",
       "4     49.0    34.0     27.0       34.709      22.127       11.078   \n",
       "\n",
       "   hygeineStdDev  stressStdDev  alcoholStdDev  hygeineScore  stressScore  \\\n",
       "0       6.703903        8.1499      10.508183     -1.982576    -2.438435   \n",
       "1       6.703903        8.1499      10.508183     -1.833410    -2.438435   \n",
       "2       6.703903        8.1499      10.508183     -2.131743    -2.070332   \n",
       "3       6.703903        8.1499      10.508183     -2.430077    -1.211426   \n",
       "4       6.703903        8.1499      10.508183     -2.131743    -1.456828   \n",
       "\n",
       "   alcoholScore  sleepDurationScore  sleepQualityScore  sleepHours  \n",
       "0      0.292915           -2.210506          -1.376032    2.732548  \n",
       "1     -1.229708           -2.135922          -1.833851    3.095233  \n",
       "2      0.483242           -2.101038          -1.239611    3.225993  \n",
       "3     -1.420036           -1.820751          -1.687180    3.288617  \n",
       "4     -1.515200           -1.794285          -1.701257    3.404337  "
      ]
     },
     "execution_count": 25,
     "metadata": {},
     "output_type": "execute_result"
    }
   ],
   "source": [
    "# Assign variables based on score\n",
    "vars[\"sleepHours\"] = hours\n",
    "vars.head()"
   ]
  },
  {
   "cell_type": "code",
   "execution_count": 26,
   "metadata": {},
   "outputs": [
    {
     "data": {
      "text/html": [
       "<div>\n",
       "<style scoped>\n",
       "    .dataframe tbody tr th:only-of-type {\n",
       "        vertical-align: middle;\n",
       "    }\n",
       "\n",
       "    .dataframe tbody tr th {\n",
       "        vertical-align: top;\n",
       "    }\n",
       "\n",
       "    .dataframe thead th {\n",
       "        text-align: right;\n",
       "    }\n",
       "</style>\n",
       "<table border=\"1\" class=\"dataframe\">\n",
       "  <thead>\n",
       "    <tr style=\"text-align: right;\">\n",
       "      <th></th>\n",
       "      <th>hygeine</th>\n",
       "      <th>stress</th>\n",
       "      <th>alcohol</th>\n",
       "      <th>hygeineMean</th>\n",
       "      <th>stressMean</th>\n",
       "      <th>alcoholMean</th>\n",
       "      <th>hygeineStdDev</th>\n",
       "      <th>stressStdDev</th>\n",
       "      <th>alcoholStdDev</th>\n",
       "      <th>hygeineScore</th>\n",
       "      <th>stressScore</th>\n",
       "      <th>alcoholScore</th>\n",
       "      <th>sleepDurationScore</th>\n",
       "      <th>sleepQualityScore</th>\n",
       "      <th>sleepHours</th>\n",
       "    </tr>\n",
       "  </thead>\n",
       "  <tbody>\n",
       "    <tr>\n",
       "      <th>0</th>\n",
       "      <td>17.0</td>\n",
       "      <td>9.0</td>\n",
       "      <td>3.0</td>\n",
       "      <td>34.709</td>\n",
       "      <td>22.127</td>\n",
       "      <td>11.078</td>\n",
       "      <td>6.703903</td>\n",
       "      <td>8.1499</td>\n",
       "      <td>10.508183</td>\n",
       "      <td>2.641595</td>\n",
       "      <td>1.610695</td>\n",
       "      <td>0.768734</td>\n",
       "      <td>2.126145</td>\n",
       "      <td>1.673675</td>\n",
       "      <td>11.595985</td>\n",
       "    </tr>\n",
       "    <tr>\n",
       "      <th>1</th>\n",
       "      <td>23.0</td>\n",
       "      <td>7.0</td>\n",
       "      <td>6.0</td>\n",
       "      <td>34.709</td>\n",
       "      <td>22.127</td>\n",
       "      <td>11.078</td>\n",
       "      <td>6.703903</td>\n",
       "      <td>8.1499</td>\n",
       "      <td>10.508183</td>\n",
       "      <td>1.746594</td>\n",
       "      <td>1.856096</td>\n",
       "      <td>0.483242</td>\n",
       "      <td>1.801345</td>\n",
       "      <td>1.361978</td>\n",
       "      <td>11.419672</td>\n",
       "    </tr>\n",
       "    <tr>\n",
       "      <th>2</th>\n",
       "      <td>20.0</td>\n",
       "      <td>14.0</td>\n",
       "      <td>3.0</td>\n",
       "      <td>34.709</td>\n",
       "      <td>22.127</td>\n",
       "      <td>11.078</td>\n",
       "      <td>6.703903</td>\n",
       "      <td>8.1499</td>\n",
       "      <td>10.508183</td>\n",
       "      <td>2.194095</td>\n",
       "      <td>0.997190</td>\n",
       "      <td>0.768734</td>\n",
       "      <td>1.595643</td>\n",
       "      <td>1.320006</td>\n",
       "      <td>10.403356</td>\n",
       "    </tr>\n",
       "    <tr>\n",
       "      <th>3</th>\n",
       "      <td>18.0</td>\n",
       "      <td>18.0</td>\n",
       "      <td>1.0</td>\n",
       "      <td>34.709</td>\n",
       "      <td>22.127</td>\n",
       "      <td>11.078</td>\n",
       "      <td>6.703903</td>\n",
       "      <td>8.1499</td>\n",
       "      <td>10.508183</td>\n",
       "      <td>2.492429</td>\n",
       "      <td>0.506387</td>\n",
       "      <td>0.959062</td>\n",
       "      <td>1.499408</td>\n",
       "      <td>1.319292</td>\n",
       "      <td>10.233675</td>\n",
       "    </tr>\n",
       "    <tr>\n",
       "      <th>4</th>\n",
       "      <td>28.0</td>\n",
       "      <td>3.0</td>\n",
       "      <td>5.0</td>\n",
       "      <td>34.709</td>\n",
       "      <td>22.127</td>\n",
       "      <td>11.078</td>\n",
       "      <td>6.703903</td>\n",
       "      <td>8.1499</td>\n",
       "      <td>10.508183</td>\n",
       "      <td>1.000760</td>\n",
       "      <td>2.346900</td>\n",
       "      <td>0.578406</td>\n",
       "      <td>1.673830</td>\n",
       "      <td>1.308689</td>\n",
       "      <td>10.559396</td>\n",
       "    </tr>\n",
       "  </tbody>\n",
       "</table>\n",
       "</div>"
      ],
      "text/plain": [
       "   hygeine  stress  alcohol  hygeineMean  stressMean  alcoholMean  \\\n",
       "0     17.0     9.0      3.0       34.709      22.127       11.078   \n",
       "1     23.0     7.0      6.0       34.709      22.127       11.078   \n",
       "2     20.0    14.0      3.0       34.709      22.127       11.078   \n",
       "3     18.0    18.0      1.0       34.709      22.127       11.078   \n",
       "4     28.0     3.0      5.0       34.709      22.127       11.078   \n",
       "\n",
       "   hygeineStdDev  stressStdDev  alcoholStdDev  hygeineScore  stressScore  \\\n",
       "0       6.703903        8.1499      10.508183      2.641595     1.610695   \n",
       "1       6.703903        8.1499      10.508183      1.746594     1.856096   \n",
       "2       6.703903        8.1499      10.508183      2.194095     0.997190   \n",
       "3       6.703903        8.1499      10.508183      2.492429     0.506387   \n",
       "4       6.703903        8.1499      10.508183      1.000760     2.346900   \n",
       "\n",
       "   alcoholScore  sleepDurationScore  sleepQualityScore  sleepHours  \n",
       "0      0.768734            2.126145           1.673675   11.595985  \n",
       "1      0.483242            1.801345           1.361978   11.419672  \n",
       "2      0.768734            1.595643           1.320006   10.403356  \n",
       "3      0.959062            1.499408           1.319292   10.233675  \n",
       "4      0.578406            1.673830           1.308689   10.559396  "
      ]
     },
     "execution_count": 26,
     "metadata": {},
     "output_type": "execute_result"
    }
   ],
   "source": [
    "vars = vars.sort_values(\"sleepQualityScore\", ascending = False, ignore_index=True)\n",
    "vars.head()"
   ]
  },
  {
   "cell_type": "code",
   "execution_count": 27,
   "metadata": {},
   "outputs": [],
   "source": [
    "quality.sort()"
   ]
  },
  {
   "cell_type": "code",
   "execution_count": 28,
   "metadata": {},
   "outputs": [
    {
     "data": {
      "text/html": [
       "<div>\n",
       "<style scoped>\n",
       "    .dataframe tbody tr th:only-of-type {\n",
       "        vertical-align: middle;\n",
       "    }\n",
       "\n",
       "    .dataframe tbody tr th {\n",
       "        vertical-align: top;\n",
       "    }\n",
       "\n",
       "    .dataframe thead th {\n",
       "        text-align: right;\n",
       "    }\n",
       "</style>\n",
       "<table border=\"1\" class=\"dataframe\">\n",
       "  <thead>\n",
       "    <tr style=\"text-align: right;\">\n",
       "      <th></th>\n",
       "      <th>hygeine</th>\n",
       "      <th>stress</th>\n",
       "      <th>alcohol</th>\n",
       "      <th>hygeineMean</th>\n",
       "      <th>stressMean</th>\n",
       "      <th>alcoholMean</th>\n",
       "      <th>hygeineStdDev</th>\n",
       "      <th>stressStdDev</th>\n",
       "      <th>alcoholStdDev</th>\n",
       "      <th>hygeineScore</th>\n",
       "      <th>stressScore</th>\n",
       "      <th>alcoholScore</th>\n",
       "      <th>sleepDurationScore</th>\n",
       "      <th>sleepQualityScore</th>\n",
       "      <th>sleepHours</th>\n",
       "      <th>sleepQuality</th>\n",
       "    </tr>\n",
       "  </thead>\n",
       "  <tbody>\n",
       "    <tr>\n",
       "      <th>0</th>\n",
       "      <td>17.0</td>\n",
       "      <td>9.0</td>\n",
       "      <td>3.0</td>\n",
       "      <td>34.709</td>\n",
       "      <td>22.127</td>\n",
       "      <td>11.078</td>\n",
       "      <td>6.703903</td>\n",
       "      <td>8.1499</td>\n",
       "      <td>10.508183</td>\n",
       "      <td>2.641595</td>\n",
       "      <td>1.610695</td>\n",
       "      <td>0.768734</td>\n",
       "      <td>2.126145</td>\n",
       "      <td>1.673675</td>\n",
       "      <td>11.595985</td>\n",
       "      <td>-0.0</td>\n",
       "    </tr>\n",
       "    <tr>\n",
       "      <th>1</th>\n",
       "      <td>23.0</td>\n",
       "      <td>7.0</td>\n",
       "      <td>6.0</td>\n",
       "      <td>34.709</td>\n",
       "      <td>22.127</td>\n",
       "      <td>11.078</td>\n",
       "      <td>6.703903</td>\n",
       "      <td>8.1499</td>\n",
       "      <td>10.508183</td>\n",
       "      <td>1.746594</td>\n",
       "      <td>1.856096</td>\n",
       "      <td>0.483242</td>\n",
       "      <td>1.801345</td>\n",
       "      <td>1.361978</td>\n",
       "      <td>11.419672</td>\n",
       "      <td>-0.0</td>\n",
       "    </tr>\n",
       "    <tr>\n",
       "      <th>2</th>\n",
       "      <td>20.0</td>\n",
       "      <td>14.0</td>\n",
       "      <td>3.0</td>\n",
       "      <td>34.709</td>\n",
       "      <td>22.127</td>\n",
       "      <td>11.078</td>\n",
       "      <td>6.703903</td>\n",
       "      <td>8.1499</td>\n",
       "      <td>10.508183</td>\n",
       "      <td>2.194095</td>\n",
       "      <td>0.997190</td>\n",
       "      <td>0.768734</td>\n",
       "      <td>1.595643</td>\n",
       "      <td>1.320006</td>\n",
       "      <td>10.403356</td>\n",
       "      <td>-0.0</td>\n",
       "    </tr>\n",
       "    <tr>\n",
       "      <th>3</th>\n",
       "      <td>18.0</td>\n",
       "      <td>18.0</td>\n",
       "      <td>1.0</td>\n",
       "      <td>34.709</td>\n",
       "      <td>22.127</td>\n",
       "      <td>11.078</td>\n",
       "      <td>6.703903</td>\n",
       "      <td>8.1499</td>\n",
       "      <td>10.508183</td>\n",
       "      <td>2.492429</td>\n",
       "      <td>0.506387</td>\n",
       "      <td>0.959062</td>\n",
       "      <td>1.499408</td>\n",
       "      <td>1.319292</td>\n",
       "      <td>10.233675</td>\n",
       "      <td>0.0</td>\n",
       "    </tr>\n",
       "    <tr>\n",
       "      <th>4</th>\n",
       "      <td>28.0</td>\n",
       "      <td>3.0</td>\n",
       "      <td>5.0</td>\n",
       "      <td>34.709</td>\n",
       "      <td>22.127</td>\n",
       "      <td>11.078</td>\n",
       "      <td>6.703903</td>\n",
       "      <td>8.1499</td>\n",
       "      <td>10.508183</td>\n",
       "      <td>1.000760</td>\n",
       "      <td>2.346900</td>\n",
       "      <td>0.578406</td>\n",
       "      <td>1.673830</td>\n",
       "      <td>1.308689</td>\n",
       "      <td>10.559396</td>\n",
       "      <td>-0.0</td>\n",
       "    </tr>\n",
       "  </tbody>\n",
       "</table>\n",
       "</div>"
      ],
      "text/plain": [
       "   hygeine  stress  alcohol  hygeineMean  stressMean  alcoholMean  \\\n",
       "0     17.0     9.0      3.0       34.709      22.127       11.078   \n",
       "1     23.0     7.0      6.0       34.709      22.127       11.078   \n",
       "2     20.0    14.0      3.0       34.709      22.127       11.078   \n",
       "3     18.0    18.0      1.0       34.709      22.127       11.078   \n",
       "4     28.0     3.0      5.0       34.709      22.127       11.078   \n",
       "\n",
       "   hygeineStdDev  stressStdDev  alcoholStdDev  hygeineScore  stressScore  \\\n",
       "0       6.703903        8.1499      10.508183      2.641595     1.610695   \n",
       "1       6.703903        8.1499      10.508183      1.746594     1.856096   \n",
       "2       6.703903        8.1499      10.508183      2.194095     0.997190   \n",
       "3       6.703903        8.1499      10.508183      2.492429     0.506387   \n",
       "4       6.703903        8.1499      10.508183      1.000760     2.346900   \n",
       "\n",
       "   alcoholScore  sleepDurationScore  sleepQualityScore  sleepHours  \\\n",
       "0      0.768734            2.126145           1.673675   11.595985   \n",
       "1      0.483242            1.801345           1.361978   11.419672   \n",
       "2      0.768734            1.595643           1.320006   10.403356   \n",
       "3      0.959062            1.499408           1.319292   10.233675   \n",
       "4      0.578406            1.673830           1.308689   10.559396   \n",
       "\n",
       "   sleepQuality  \n",
       "0          -0.0  \n",
       "1          -0.0  \n",
       "2          -0.0  \n",
       "3           0.0  \n",
       "4          -0.0  "
      ]
     },
     "execution_count": 28,
     "metadata": {},
     "output_type": "execute_result"
    }
   ],
   "source": [
    "vars[\"sleepQuality\"] = quality\n",
    "vars.head()"
   ]
  },
  {
   "cell_type": "code",
   "execution_count": 29,
   "metadata": {},
   "outputs": [],
   "source": [
    "# Filter unneeded columns\n",
    "SleepVariables = vars[[\"hygeine\", \"stress\", \"alcohol\", \"sleepHours\", \"sleepQuality\"]]"
   ]
  },
  {
   "cell_type": "code",
   "execution_count": 30,
   "metadata": {},
   "outputs": [
    {
     "data": {
      "text/html": [
       "<div>\n",
       "<style scoped>\n",
       "    .dataframe tbody tr th:only-of-type {\n",
       "        vertical-align: middle;\n",
       "    }\n",
       "\n",
       "    .dataframe tbody tr th {\n",
       "        vertical-align: top;\n",
       "    }\n",
       "\n",
       "    .dataframe thead th {\n",
       "        text-align: right;\n",
       "    }\n",
       "</style>\n",
       "<table border=\"1\" class=\"dataframe\">\n",
       "  <thead>\n",
       "    <tr style=\"text-align: right;\">\n",
       "      <th></th>\n",
       "      <th>hygeine</th>\n",
       "      <th>stress</th>\n",
       "      <th>alcohol</th>\n",
       "      <th>sleepHours</th>\n",
       "      <th>sleepQuality</th>\n",
       "    </tr>\n",
       "  </thead>\n",
       "  <tbody>\n",
       "    <tr>\n",
       "      <th>count</th>\n",
       "      <td>1000.000000</td>\n",
       "      <td>1000.000000</td>\n",
       "      <td>1000.000000</td>\n",
       "      <td>1000.000000</td>\n",
       "      <td>1000.000000</td>\n",
       "    </tr>\n",
       "    <tr>\n",
       "      <th>mean</th>\n",
       "      <td>34.709000</td>\n",
       "      <td>22.127000</td>\n",
       "      <td>11.078000</td>\n",
       "      <td>7.111562</td>\n",
       "      <td>6.321000</td>\n",
       "    </tr>\n",
       "    <tr>\n",
       "      <th>std</th>\n",
       "      <td>6.707258</td>\n",
       "      <td>8.153978</td>\n",
       "      <td>10.513441</td>\n",
       "      <td>1.422041</td>\n",
       "      <td>3.031031</td>\n",
       "    </tr>\n",
       "    <tr>\n",
       "      <th>min</th>\n",
       "      <td>14.000000</td>\n",
       "      <td>1.000000</td>\n",
       "      <td>0.000000</td>\n",
       "      <td>2.732548</td>\n",
       "      <td>-0.000000</td>\n",
       "    </tr>\n",
       "    <tr>\n",
       "      <th>25%</th>\n",
       "      <td>30.000000</td>\n",
       "      <td>17.000000</td>\n",
       "      <td>4.000000</td>\n",
       "      <td>6.155557</td>\n",
       "      <td>4.000000</td>\n",
       "    </tr>\n",
       "    <tr>\n",
       "      <th>50%</th>\n",
       "      <td>35.000000</td>\n",
       "      <td>22.000000</td>\n",
       "      <td>8.000000</td>\n",
       "      <td>7.118733</td>\n",
       "      <td>6.000000</td>\n",
       "    </tr>\n",
       "    <tr>\n",
       "      <th>75%</th>\n",
       "      <td>39.000000</td>\n",
       "      <td>28.000000</td>\n",
       "      <td>15.000000</td>\n",
       "      <td>8.061390</td>\n",
       "      <td>8.000000</td>\n",
       "    </tr>\n",
       "    <tr>\n",
       "      <th>max</th>\n",
       "      <td>56.000000</td>\n",
       "      <td>45.000000</td>\n",
       "      <td>84.000000</td>\n",
       "      <td>11.595985</td>\n",
       "      <td>15.000000</td>\n",
       "    </tr>\n",
       "  </tbody>\n",
       "</table>\n",
       "</div>"
      ],
      "text/plain": [
       "           hygeine       stress      alcohol   sleepHours  sleepQuality\n",
       "count  1000.000000  1000.000000  1000.000000  1000.000000   1000.000000\n",
       "mean     34.709000    22.127000    11.078000     7.111562      6.321000\n",
       "std       6.707258     8.153978    10.513441     1.422041      3.031031\n",
       "min      14.000000     1.000000     0.000000     2.732548     -0.000000\n",
       "25%      30.000000    17.000000     4.000000     6.155557      4.000000\n",
       "50%      35.000000    22.000000     8.000000     7.118733      6.000000\n",
       "75%      39.000000    28.000000    15.000000     8.061390      8.000000\n",
       "max      56.000000    45.000000    84.000000    11.595985     15.000000"
      ]
     },
     "execution_count": 30,
     "metadata": {},
     "output_type": "execute_result"
    }
   ],
   "source": [
    "SleepVariables.describe()"
   ]
  },
  {
   "cell_type": "code",
   "execution_count": 31,
   "metadata": {},
   "outputs": [],
   "source": [
    "# https://www.delftstack.com/howto/python-pandas/how-to-randomly-shuffle-dataframe-rows-in-pandas/\n",
    "# This randomaises the order of the dataset\n",
    "SleepVariables=SleepVariables.sample(frac=1).reset_index(drop=True)"
   ]
  },
  {
   "cell_type": "code",
   "execution_count": 35,
   "metadata": {},
   "outputs": [
    {
     "data": {
      "text/html": [
       "<div>\n",
       "<style scoped>\n",
       "    .dataframe tbody tr th:only-of-type {\n",
       "        vertical-align: middle;\n",
       "    }\n",
       "\n",
       "    .dataframe tbody tr th {\n",
       "        vertical-align: top;\n",
       "    }\n",
       "\n",
       "    .dataframe thead th {\n",
       "        text-align: right;\n",
       "    }\n",
       "</style>\n",
       "<table border=\"1\" class=\"dataframe\">\n",
       "  <thead>\n",
       "    <tr style=\"text-align: right;\">\n",
       "      <th></th>\n",
       "      <th>hygeine</th>\n",
       "      <th>stress</th>\n",
       "      <th>alcohol</th>\n",
       "      <th>sleepHours</th>\n",
       "      <th>sleepQuality</th>\n",
       "    </tr>\n",
       "  </thead>\n",
       "  <tbody>\n",
       "    <tr>\n",
       "      <th>0</th>\n",
       "      <td>27.0</td>\n",
       "      <td>42.0</td>\n",
       "      <td>3.0</td>\n",
       "      <td>5.797783</td>\n",
       "      <td>7.0</td>\n",
       "    </tr>\n",
       "    <tr>\n",
       "      <th>1</th>\n",
       "      <td>37.0</td>\n",
       "      <td>25.0</td>\n",
       "      <td>7.0</td>\n",
       "      <td>6.363717</td>\n",
       "      <td>7.0</td>\n",
       "    </tr>\n",
       "    <tr>\n",
       "      <th>2</th>\n",
       "      <td>34.0</td>\n",
       "      <td>24.0</td>\n",
       "      <td>7.0</td>\n",
       "      <td>7.006482</td>\n",
       "      <td>6.0</td>\n",
       "    </tr>\n",
       "    <tr>\n",
       "      <th>3</th>\n",
       "      <td>32.0</td>\n",
       "      <td>19.0</td>\n",
       "      <td>17.0</td>\n",
       "      <td>7.974292</td>\n",
       "      <td>6.0</td>\n",
       "    </tr>\n",
       "    <tr>\n",
       "      <th>4</th>\n",
       "      <td>35.0</td>\n",
       "      <td>32.0</td>\n",
       "      <td>19.0</td>\n",
       "      <td>5.831144</td>\n",
       "      <td>10.0</td>\n",
       "    </tr>\n",
       "    <tr>\n",
       "      <th>5</th>\n",
       "      <td>32.0</td>\n",
       "      <td>45.0</td>\n",
       "      <td>19.0</td>\n",
       "      <td>4.466814</td>\n",
       "      <td>12.0</td>\n",
       "    </tr>\n",
       "    <tr>\n",
       "      <th>6</th>\n",
       "      <td>26.0</td>\n",
       "      <td>19.0</td>\n",
       "      <td>24.0</td>\n",
       "      <td>8.833952</td>\n",
       "      <td>6.0</td>\n",
       "    </tr>\n",
       "    <tr>\n",
       "      <th>7</th>\n",
       "      <td>39.0</td>\n",
       "      <td>31.0</td>\n",
       "      <td>5.0</td>\n",
       "      <td>5.283943</td>\n",
       "      <td>9.0</td>\n",
       "    </tr>\n",
       "    <tr>\n",
       "      <th>8</th>\n",
       "      <td>45.0</td>\n",
       "      <td>21.0</td>\n",
       "      <td>5.0</td>\n",
       "      <td>5.638079</td>\n",
       "      <td>8.0</td>\n",
       "    </tr>\n",
       "    <tr>\n",
       "      <th>9</th>\n",
       "      <td>25.0</td>\n",
       "      <td>21.0</td>\n",
       "      <td>6.0</td>\n",
       "      <td>8.750493</td>\n",
       "      <td>2.0</td>\n",
       "    </tr>\n",
       "    <tr>\n",
       "      <th>10</th>\n",
       "      <td>41.0</td>\n",
       "      <td>27.0</td>\n",
       "      <td>2.0</td>\n",
       "      <td>5.506351</td>\n",
       "      <td>8.0</td>\n",
       "    </tr>\n",
       "    <tr>\n",
       "      <th>11</th>\n",
       "      <td>30.0</td>\n",
       "      <td>29.0</td>\n",
       "      <td>19.0</td>\n",
       "      <td>6.996356</td>\n",
       "      <td>8.0</td>\n",
       "    </tr>\n",
       "    <tr>\n",
       "      <th>12</th>\n",
       "      <td>41.0</td>\n",
       "      <td>9.0</td>\n",
       "      <td>6.0</td>\n",
       "      <td>7.851409</td>\n",
       "      <td>4.0</td>\n",
       "    </tr>\n",
       "    <tr>\n",
       "      <th>13</th>\n",
       "      <td>39.0</td>\n",
       "      <td>20.0</td>\n",
       "      <td>10.0</td>\n",
       "      <td>6.746362</td>\n",
       "      <td>7.0</td>\n",
       "    </tr>\n",
       "    <tr>\n",
       "      <th>14</th>\n",
       "      <td>33.0</td>\n",
       "      <td>24.0</td>\n",
       "      <td>12.0</td>\n",
       "      <td>7.127517</td>\n",
       "      <td>7.0</td>\n",
       "    </tr>\n",
       "    <tr>\n",
       "      <th>15</th>\n",
       "      <td>42.0</td>\n",
       "      <td>27.0</td>\n",
       "      <td>4.0</td>\n",
       "      <td>5.340665</td>\n",
       "      <td>8.0</td>\n",
       "    </tr>\n",
       "    <tr>\n",
       "      <th>16</th>\n",
       "      <td>41.0</td>\n",
       "      <td>17.0</td>\n",
       "      <td>0.0</td>\n",
       "      <td>6.801521</td>\n",
       "      <td>5.0</td>\n",
       "    </tr>\n",
       "    <tr>\n",
       "      <th>17</th>\n",
       "      <td>40.0</td>\n",
       "      <td>20.0</td>\n",
       "      <td>0.0</td>\n",
       "      <td>6.602764</td>\n",
       "      <td>5.0</td>\n",
       "    </tr>\n",
       "    <tr>\n",
       "      <th>18</th>\n",
       "      <td>31.0</td>\n",
       "      <td>23.0</td>\n",
       "      <td>34.0</td>\n",
       "      <td>7.585018</td>\n",
       "      <td>10.0</td>\n",
       "    </tr>\n",
       "    <tr>\n",
       "      <th>19</th>\n",
       "      <td>35.0</td>\n",
       "      <td>24.0</td>\n",
       "      <td>5.0</td>\n",
       "      <td>6.874370</td>\n",
       "      <td>6.0</td>\n",
       "    </tr>\n",
       "    <tr>\n",
       "      <th>20</th>\n",
       "      <td>34.0</td>\n",
       "      <td>24.0</td>\n",
       "      <td>4.0</td>\n",
       "      <td>7.006447</td>\n",
       "      <td>5.0</td>\n",
       "    </tr>\n",
       "    <tr>\n",
       "      <th>21</th>\n",
       "      <td>45.0</td>\n",
       "      <td>28.0</td>\n",
       "      <td>1.0</td>\n",
       "      <td>4.711900</td>\n",
       "      <td>9.0</td>\n",
       "    </tr>\n",
       "    <tr>\n",
       "      <th>22</th>\n",
       "      <td>35.0</td>\n",
       "      <td>32.0</td>\n",
       "      <td>1.0</td>\n",
       "      <td>5.829665</td>\n",
       "      <td>7.0</td>\n",
       "    </tr>\n",
       "    <tr>\n",
       "      <th>23</th>\n",
       "      <td>41.0</td>\n",
       "      <td>32.0</td>\n",
       "      <td>10.0</td>\n",
       "      <td>4.825830</td>\n",
       "      <td>10.0</td>\n",
       "    </tr>\n",
       "    <tr>\n",
       "      <th>24</th>\n",
       "      <td>31.0</td>\n",
       "      <td>20.0</td>\n",
       "      <td>3.0</td>\n",
       "      <td>8.004630</td>\n",
       "      <td>3.0</td>\n",
       "    </tr>\n",
       "  </tbody>\n",
       "</table>\n",
       "</div>"
      ],
      "text/plain": [
       "    hygeine  stress  alcohol  sleepHours  sleepQuality\n",
       "0      27.0    42.0      3.0    5.797783           7.0\n",
       "1      37.0    25.0      7.0    6.363717           7.0\n",
       "2      34.0    24.0      7.0    7.006482           6.0\n",
       "3      32.0    19.0     17.0    7.974292           6.0\n",
       "4      35.0    32.0     19.0    5.831144          10.0\n",
       "5      32.0    45.0     19.0    4.466814          12.0\n",
       "6      26.0    19.0     24.0    8.833952           6.0\n",
       "7      39.0    31.0      5.0    5.283943           9.0\n",
       "8      45.0    21.0      5.0    5.638079           8.0\n",
       "9      25.0    21.0      6.0    8.750493           2.0\n",
       "10     41.0    27.0      2.0    5.506351           8.0\n",
       "11     30.0    29.0     19.0    6.996356           8.0\n",
       "12     41.0     9.0      6.0    7.851409           4.0\n",
       "13     39.0    20.0     10.0    6.746362           7.0\n",
       "14     33.0    24.0     12.0    7.127517           7.0\n",
       "15     42.0    27.0      4.0    5.340665           8.0\n",
       "16     41.0    17.0      0.0    6.801521           5.0\n",
       "17     40.0    20.0      0.0    6.602764           5.0\n",
       "18     31.0    23.0     34.0    7.585018          10.0\n",
       "19     35.0    24.0      5.0    6.874370           6.0\n",
       "20     34.0    24.0      4.0    7.006447           5.0\n",
       "21     45.0    28.0      1.0    4.711900           9.0\n",
       "22     35.0    32.0      1.0    5.829665           7.0\n",
       "23     41.0    32.0     10.0    4.825830          10.0\n",
       "24     31.0    20.0      3.0    8.004630           3.0"
      ]
     },
     "execution_count": 35,
     "metadata": {},
     "output_type": "execute_result"
    }
   ],
   "source": [
    "# Final display of the data\n",
    "SleepVariables[:25]"
   ]
  },
  {
   "cell_type": "code",
   "execution_count": 33,
   "metadata": {},
   "outputs": [
    {
     "data": {
      "image/png": "[encoded data removed]",
      "text/plain": [
       "<Figure size 900x900 with 30 Axes>"
      ]
     },
     "metadata": {
      "needs_background": "light"
     },
     "output_type": "display_data"
    }
   ],
   "source": [
    "# Seaborn pairplot\n",
    "sns.pairplot(SleepVariables[:100]).fig.suptitle(\"Sleep Metrics\", size = 18, y = 1.02);"
   ]
  },
  {
   "cell_type": "markdown",
   "metadata": {},
   "source": [
    "***"
   ]
  },
  {
   "cell_type": "markdown",
   "metadata": {},
   "source": [
    "## References\n",
    "***\n",
    "- [Benham, G., 2021. Stress and sleep in college students prior to and during the COVID‐19 pandemic. Stress and Health, 37(3), pp.504-515.](https://onlinelibrary.wiley.com/doi/full/10.1002/smi.3016) \n",
    "- [Bøe Lunde, H.M., Aae, T.F., Indrevåg, W., Aarseth, J., Bjorvatn, B., Myhr, K.M. and Bø, L., 2012. Poor sleep in patients with multiple sclerosis. PloS one, 7(11), p.e49996.](https://journals.plos.org/plosone/article?id=10.1371/journal.pone.0049996)\n",
    "- [Brick, C.A., Seely, D.L. and Palermo, T.M., 2010. Association between sleep hygiene and sleep quality in medical students. Behavioral sleep medicine, 8(2), pp.113-121.](https://www.ncbi.nlm.nih.gov/pmc/articles/PMC3572193/)\n",
    "- [Brown, F.C., Buboltz Jr, W.C. and Soper, B., 2002. Relationship of sleep hygiene awareness, sleep hygiene practices, and sleep quality in university students. Behavioral medicine, 28(1), pp.33-38.](https://citeseerx.ist.psu.edu/viewdoc/download?doi=10.1.1.884.3251&rep=rep1&type=pdf)\n",
    "- [Buysse, D.J., Reynolds III, C.F., Monk, T.H., Berman, S.R. and Kupfer, D.J., 1989. The Pittsburgh Sleep Quality Index: a new instrument for psychiatric practice and research. Psychiatry research, 28(2), pp.193-213.](https://www.sciencedirect.com/science/article/abs/pii/0165178189900474)\n",
    "- [Charles, L.E., Slaven, J.E., Mnatsakanova, A., Ma, C., Violanti, J.M., Fekedulegn, D., Andrew, M.E., Vila, B.J. and Burchfiel, C.M., 2011. Association of perceived stress with sleep duration and sleep quality in police officers. International journal of emergency mental health, 13(4), p.229.](https://www.ncbi.nlm.nih.gov/pmc/articles/PMC4681282/)\n",
    "- [Chueh, K.H., Guilleminault, C. and Chia-Mo, L.I.N., 2019. Alcohol consumption as a moderator of anxiety and sleep quality. The Journal of Nursing Research, 27(3), p.e23.](https://www.ncbi.nlm.nih.gov/pmc/articles/PMC6554008/) \n",
    "- [El Hangouche, A.J., Jniene, A., Aboudrar, S., Errguig, L., Rkain, H., Cherti, M. and Dakka, T., 2018. Relationship between poor quality sleep, excessive daytime sleepiness and low academic performance in medical students. Advances in medical education and practice, 9, p.631.](https://www.ncbi.nlm.nih.gov/pmc/articles/PMC6135210/) \n",
    "- [Grandner, M.A., Kripke, D.F., Yoon, I.Y. and Youngstedt, S.D., 2006. Criterion validity of the Pittsburgh Sleep Quality Index: Investigation in a non-clinical sample. Sleep and biological rhythms, 4(2), pp.129-136.](https://www.ncbi.nlm.nih.gov/pmc/articles/PMC3399671/)\n",
    "- [Huy, N.T., Nguyen Tran, M.D., Mohammed Alhady, S.T., Luu, M.N., Hassan, A.K., Giang, T.V., Truong, L.V., Ravikulan, R., Raut, A.P., Dayyab, F.M. and Durme, S.P., 2021. Perceived Stress of Quarantine and Isolation During COVID-19 Pandemic: A Global Survey. Frontiers in psychiatry, 12, p.651.](https://www.frontiersin.org/articles/10.3389/fpsyt.2021.656664/full)\n",
    "- [Kashani, M., Eliasson, A. and Vernalis, M., 2012. Perceived stress correlates with disturbed sleep: a link connecting stress and cardiovascular disease. Stress, 15(1), pp.45-51.](https://www.tandfonline.com/doi/pdf/10.3109/10253890.2011.578266) \n",
    "- [Kenney, S.R., LaBrie, J.W., Hummer, J.F. and Pham, A.T., 2012. Global sleep quality as a moderator of alcohol consumption and consequences in college students. Addictive behaviors, 37(4), pp.507-512.](https://www.ncbi.nlm.nih.gov/pmc/articles/PMC4329778/)\n",
    "- [Kenney, S.R., Lac, A., LaBrie, J.W., Hummer, J.F. and Pham, A., 2013. Mental health, sleep quality, drinking motives, and alcohol-related consequences: a path-analytic model. Journal of Studies on Alcohol and Drugs, 74(6), pp.841-851.](https://www.ncbi.nlm.nih.gov/pmc/articles/PMC3817046/) \n",
    "- [Landolt, H.P., 2008. Genotype-dependent differences in sleep, vigilance, and response to stimulants. Current pharmaceutical design, 14(32), pp.3396-3407.](https://www.researchgate.net/figure/Fig-1-Large-variation-and-normal-distribution-in-self-rated-sleep-duration-average_fig1_224953802) \n",
    "- [Mastin, D.F., Bryson, J. and Corwyn, R., 2006. Assessment of sleep hygiene using the Sleep Hygiene Index. Journal of behavioral medicine, 29(3), pp.223-227.](https://www.researchgate.net/profile/David-Mastin/publication/7222661_Assessment_of_Sleep_Hygiene_Using_the_Sleep_Hygiene_Index/links/54e653b40cf2bff5a4f52da5/Assessment-of-Sleep-Hygiene-Using-the-Sleep-Hygiene-Index.pdf) \n",
    "- [PILCHER, J.J., GINTER, D.R. and SADOWSKY, B., 1997. SLEEP QUALITY VERSUS SLEEP QUANTITY: RELATIONSHIPS BETWEEN SLEEP AND MEASURES OF HEALTH, WELL-BEING AND SLEEPINESS IN COLLEGE STUDENTS. Journal of Psychosomatic Research, 42(6), pp.583-596.](https://www.researchgate.net/profile/June-Pilcher/publication/13992227_Sleep_quality_versus_sleep_quantity_Relationships_between_sleep_and_measures_of_health_well-being_and_sleepiness_in_college_students/links/59d8d8790f7e9b12b368615a/Sleep-quality-versus-sleep-quantity-Relationships-between-sleep-and-measures-of-health-well-being-and-sleepiness-in-college-students.pdf) \n",
    "- [Robbins, R., Affouf, M., Seixas, A., Beaugris, L., Avirappattu, G. and Jean-Louis, G., 2020. Four-year trends in sleep duration and quality: a longitudinal study using data from a commercially available sleep tracker. Journal of medical Internet research, 22(2), p.e14735.](https://www.jmir.org/2020/2/e14735/) \n",
    "- [Verlander, L.A., Benedict, J.O. and Hanson, D.P., 1999. Stress and sleep patterns of college students. Perceptual and Motor Skills, 88(3), pp.893-898.](https://journals.sagepub.com/doi/pdf/10.2466/pms.1999.88.3.893) \n"
   ]
  },
  {
   "cell_type": "markdown",
   "metadata": {},
   "source": [
    "***\n",
    "# The End"
   ]
  }
 ],
 "metadata": {
  "kernelspec": {
   "display_name": "Python 3",
   "language": "python",
   "name": "python3"
  },
  "language_info": {
   "codemirror_mode": {
    "name": "ipython",
    "version": 3
   },
   "file_extension": ".py",
   "mimetype": "text/x-python",
   "name": "python",
   "nbconvert_exporter": "python",
   "pygments_lexer": "ipython3",
   "version": "3.8.5"
  }
 },
 "nbformat": 4,
 "nbformat_minor": 4
}
